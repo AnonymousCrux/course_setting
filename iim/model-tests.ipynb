{
 "cells": [
  {
   "cell_type": "code",
   "execution_count": 12,
   "id": "b27e7cc2-959d-485d-b6fb-05ba42d56a9c",
   "metadata": {},
   "outputs": [],
   "source": [
    "import pandas as pd\n",
    "import numpy as np\n",
    "\n",
    "from sklearn.multioutput import MultiOutputRegressor\n",
    "from sklearn.model_selection import train_test_split"
   ]
  },
  {
   "cell_type": "code",
   "execution_count": null,
   "id": "7be4fd66-7228-4a3e-a0d6-bc7eb402019d",
   "metadata": {},
   "outputs": [],
   "source": []
  },
  {
   "cell_type": "code",
   "execution_count": 2,
   "id": "9bfa61ef-31b4-4344-abe2-4adcab6166d1",
   "metadata": {},
   "outputs": [],
   "source": [
    "RANDOM_STATE = 8675309"
   ]
  },
  {
   "cell_type": "code",
   "execution_count": null,
   "id": "c5e0ef68-e6cc-4b47-a3a2-fbf8de0bfe43",
   "metadata": {},
   "outputs": [],
   "source": []
  },
  {
   "cell_type": "code",
   "execution_count": 3,
   "id": "e7a18064-d3cc-42a2-9e48-c37216241ca1",
   "metadata": {},
   "outputs": [],
   "source": [
    "df = pd.read_excel(\"../Data/bereinigte_DATEN_ano.xlsx\")"
   ]
  },
  {
   "cell_type": "code",
   "execution_count": 4,
   "id": "d18ef9fd-40b8-49dd-8c3f-e799a28304c5",
   "metadata": {},
   "outputs": [
    {
     "data": {
      "text/plain": [
       "Index(['Unnamed: 0', 'V1', 'athlete', 'gender', 'run', 'location', 'date',\n",
       "       'TurnNr', 'MinimalRadius', 'VelocityAtMinRadius', 'VelocityAtTurnEntry',\n",
       "       'VelocityAtTurnExit', 'TimeStarttoEnd', 'TimeStartToMinRad',\n",
       "       'TimeMinRadToEnd', 'GlideTime_endtostart', 'TimeStarttoEnd_2',\n",
       "       'Initiation', 'Completion', 'Gliding', 'Unnamed0', 'vectortonext',\n",
       "       'vector2Dtonext', 'GATEDISTANCE', 'dist2Dtonext', 'vectortonextnorm',\n",
       "       'vector2Dtonextnorm', 'STEEPNESS', 'azitonext', 'slopechangetonext',\n",
       "       'angletonext', 'projtonext', 'projpttonext', 'offsettonext',\n",
       "       'vectortonextnext', 'vector2Dtonextnext', 'dist3Dtonextnext',\n",
       "       'dts2Dtonextnext', 'vectortonextnextnorm', 'vector2Dtonextnextnorm',\n",
       "       'slopetonextnext', 'azitonextnext', 'HORIZONTALGATEDISTANCE',\n",
       "       'VERTICALGATEDISTANCE', 'regularbs1orfs2', 'steepness_A', 'filter_$',\n",
       "       'goofy2_regular1', '@2Ferse_3Zehe_4Ferse', 'Zehen1_Fersen2',\n",
       "       'DistanzSchätz'],\n",
       "      dtype='object')"
      ]
     },
     "execution_count": 4,
     "metadata": {},
     "output_type": "execute_result"
    }
   ],
   "source": [
    "df.columns"
   ]
  },
  {
   "cell_type": "code",
   "execution_count": null,
   "id": "c5b9a2a0-3855-4ae4-98fc-cff759d88818",
   "metadata": {},
   "outputs": [],
   "source": []
  },
  {
   "cell_type": "code",
   "execution_count": 133,
   "id": "33a586b9-b09d-4422-a9ef-e9f88bf779d0",
   "metadata": {},
   "outputs": [
    {
     "data": {
      "text/plain": [
       "0       [-14.3678025804111,15.6543538719416,-6.1476324...\n",
       "1       [-14.3678025804111,15.6543538719416,-6.1476324...\n",
       "2       [-14.3678025804111,15.6543538719416,-6.1476324...\n",
       "3       [-14.3678025804111,15.6543538719416,-6.1476324...\n",
       "4       [-14.3678025804111,15.6543538719416,-6.1476324...\n",
       "                              ...                        \n",
       "6685    [17.9373525538831,13.1200019354001,-4.58418518...\n",
       "6686    [17.9373525538831,13.1200019354001,-4.58418518...\n",
       "6687    [17.9373525538831,13.1200019354001,-4.58418518...\n",
       "6688    [17.9373525538831,13.1200019354001,-4.58418518...\n",
       "6689    [17.9373525538831,13.1200019354001,-4.58418518...\n",
       "Name: vectortonext, Length: 6690, dtype: object"
      ]
     },
     "execution_count": 133,
     "metadata": {},
     "output_type": "execute_result"
    }
   ],
   "source": [
    "df['vectortonext']"
   ]
  },
  {
   "cell_type": "code",
   "execution_count": null,
   "id": "98bc09cf-361d-4c6f-9b19-9ede8949856b",
   "metadata": {},
   "outputs": [],
   "source": []
  },
  {
   "cell_type": "code",
   "execution_count": 78,
   "id": "4e7a5230-4f26-42c4-987c-0a005e44f42d",
   "metadata": {},
   "outputs": [],
   "source": [
    "X = (\n",
    "    df[[\n",
    "        'gender',\n",
    "        'MinimalRadius',\n",
    "        'VelocityAtMinRadius',\n",
    "        'VelocityAtTurnEntry',\n",
    "        'VelocityAtTurnExit',\n",
    "    ]].values\n",
    ")"
   ]
  },
  {
   "cell_type": "code",
   "execution_count": 106,
   "id": "51936c7c-bbc5-4698-b172-a7da733bcc1b",
   "metadata": {},
   "outputs": [
    {
     "data": {
      "text/plain": [
       "array([[ 1.  , 10.63, 53.6 , 55.7 , 55.2 ],\n",
       "       [ 1.  , 11.05, 52.3 , 57.7 , 55.6 ],\n",
       "       [ 1.  , 10.99, 52.8 , 57.  , 58.2 ],\n",
       "       ...,\n",
       "       [ 2.  , 13.37, 50.6 , 52.2 , 53.7 ],\n",
       "       [ 2.  , 10.28, 47.3 , 48.1 , 49.5 ],\n",
       "       [ 2.  , 12.84, 50.6 , 51.  , 53.2 ]])"
      ]
     },
     "execution_count": 106,
     "metadata": {},
     "output_type": "execute_result"
    }
   ],
   "source": [
    "X"
   ]
  },
  {
   "cell_type": "code",
   "execution_count": 107,
   "id": "12316f89-83eb-48a2-8160-65a1c3ef570f",
   "metadata": {},
   "outputs": [],
   "source": [
    "y = df[['TimeStarttoEnd', 'TimeStartToMinRad', 'TimeMinRadToEnd', 'GlideTime_endtostart', 'TimeStarttoEnd_2']].values"
   ]
  },
  {
   "cell_type": "code",
   "execution_count": 108,
   "id": "b82bc2b2-8c95-4aa6-ac4c-a5961af09d90",
   "metadata": {},
   "outputs": [
    {
     "data": {
      "text/plain": [
       "array([[1.28, 0.64, 0.64, 0.24, 1.52],\n",
       "       [1.32, 0.6 , 0.72, 0.24, 1.56],\n",
       "       [1.32, 0.6 , 0.72, 0.24, 1.56],\n",
       "       ...,\n",
       "       [1.36, 0.52, 0.84, 0.24, 1.6 ],\n",
       "       [1.32, 0.64, 0.68, 0.  , 1.32],\n",
       "       [1.36, 0.52, 0.84, 0.24, 1.6 ]])"
      ]
     },
     "execution_count": 108,
     "metadata": {},
     "output_type": "execute_result"
    }
   ],
   "source": [
    "y"
   ]
  },
  {
   "cell_type": "code",
   "execution_count": null,
   "id": "3a0d607f-b842-4859-8e85-326bc3b5aca4",
   "metadata": {},
   "outputs": [],
   "source": []
  },
  {
   "cell_type": "code",
   "execution_count": 109,
   "id": "8d077f26-565b-469d-9415-a2317cb93a35",
   "metadata": {},
   "outputs": [],
   "source": [
    "X_train, X_test, y_train, y_test = train_test_split(X, y, test_size=0.25, random_state=RANDOM_STATE)"
   ]
  },
  {
   "cell_type": "code",
   "execution_count": null,
   "id": "9b5e4ab9-4d59-419b-bd87-34e351f13844",
   "metadata": {},
   "outputs": [],
   "source": []
  },
  {
   "cell_type": "code",
   "execution_count": 110,
   "id": "bdec6922-5bab-48db-8f56-b7fa0d7f79d2",
   "metadata": {},
   "outputs": [
    {
     "name": "stdout",
     "output_type": "stream",
     "text": [
      "(5017, 5)\n",
      "(5017, 5)\n"
     ]
    }
   ],
   "source": [
    "print(X_train.shape)\n",
    "print(y_train.shape)"
   ]
  },
  {
   "cell_type": "code",
   "execution_count": 111,
   "id": "81207b4d-6f63-478e-aeab-68894ed1fae3",
   "metadata": {},
   "outputs": [
    {
     "name": "stdout",
     "output_type": "stream",
     "text": [
      "(1673, 5)\n",
      "(1673, 5)\n"
     ]
    }
   ],
   "source": [
    "print(X_test.shape)\n",
    "print(y_test.shape)"
   ]
  },
  {
   "cell_type": "code",
   "execution_count": null,
   "id": "540bcaef-099d-4547-9d42-c0e386101a2e",
   "metadata": {},
   "outputs": [],
   "source": []
  },
  {
   "cell_type": "code",
   "execution_count": 112,
   "id": "4324ccad-ca81-4dec-8ad1-9bd1a021169b",
   "metadata": {},
   "outputs": [],
   "source": [
    "from sklearn.linear_model import LinearRegression"
   ]
  },
  {
   "cell_type": "code",
   "execution_count": 113,
   "id": "73ee77b0-ccab-454d-b4a4-d8b78aba2d7f",
   "metadata": {},
   "outputs": [],
   "source": [
    "model = MultiOutputRegressor(LinearRegression()).fit(X_train, y_train)"
   ]
  },
  {
   "cell_type": "code",
   "execution_count": 114,
   "id": "972eb4a2-a242-4751-b7cd-b6b0cc229789",
   "metadata": {},
   "outputs": [
    {
     "data": {
      "text/plain": [
       "0.4585824276812328"
      ]
     },
     "execution_count": 114,
     "metadata": {},
     "output_type": "execute_result"
    }
   ],
   "source": [
    "model.score(X_test, y_test)"
   ]
  },
  {
   "cell_type": "code",
   "execution_count": null,
   "id": "acd8186f-2232-4a74-92bc-d99d2605558e",
   "metadata": {},
   "outputs": [],
   "source": []
  },
  {
   "cell_type": "code",
   "execution_count": 115,
   "id": "651e3d04-e0fd-40ad-ad3c-2728b73b1e9b",
   "metadata": {},
   "outputs": [],
   "source": [
    "from sklearn.linear_model import Ridge"
   ]
  },
  {
   "cell_type": "code",
   "execution_count": 116,
   "id": "b5507931-52b5-4632-8b40-ccb25abca505",
   "metadata": {},
   "outputs": [],
   "source": [
    "model = MultiOutputRegressor(Ridge()).fit(X_train, y_train)"
   ]
  },
  {
   "cell_type": "code",
   "execution_count": 117,
   "id": "7cf20a92-2daf-48d5-8da0-d1d871fd4cb5",
   "metadata": {},
   "outputs": [
    {
     "data": {
      "text/plain": [
       "0.45858267492371674"
      ]
     },
     "execution_count": 117,
     "metadata": {},
     "output_type": "execute_result"
    }
   ],
   "source": [
    "model.score(X_test, y_test)"
   ]
  },
  {
   "cell_type": "code",
   "execution_count": null,
   "id": "56634471-3e26-46c8-bf36-3afba028dbfe",
   "metadata": {},
   "outputs": [],
   "source": []
  },
  {
   "cell_type": "code",
   "execution_count": 118,
   "id": "18ca943d-5de2-40be-a907-dc0be68f510e",
   "metadata": {},
   "outputs": [],
   "source": [
    "from sklearn.linear_model import RidgeCV"
   ]
  },
  {
   "cell_type": "code",
   "execution_count": 119,
   "id": "97c53767-0f34-4092-ba71-9003fb1d1bd3",
   "metadata": {},
   "outputs": [],
   "source": [
    "model = MultiOutputRegressor(RidgeCV()).fit(X_train, y_train)"
   ]
  },
  {
   "cell_type": "code",
   "execution_count": 120,
   "id": "9da85f87-a20d-42c6-b6e6-23957e410aec",
   "metadata": {},
   "outputs": [
    {
     "data": {
      "text/plain": [
       "0.45858448440598953"
      ]
     },
     "execution_count": 120,
     "metadata": {},
     "output_type": "execute_result"
    }
   ],
   "source": [
    "model.score(X_test, y_test)"
   ]
  },
  {
   "cell_type": "code",
   "execution_count": null,
   "id": "934b6e29-caae-4531-a77e-e77bc56626f0",
   "metadata": {},
   "outputs": [],
   "source": []
  },
  {
   "cell_type": "code",
   "execution_count": 121,
   "id": "d7fb3b34-3765-403a-b607-a6d8172f793b",
   "metadata": {},
   "outputs": [],
   "source": [
    "from sklearn.tree import DecisionTreeRegressor"
   ]
  },
  {
   "cell_type": "code",
   "execution_count": 122,
   "id": "ad4b446c-d8ab-4d59-951e-a6c603f58d99",
   "metadata": {},
   "outputs": [],
   "source": [
    "model = MultiOutputRegressor(DecisionTreeRegressor(max_depth=8, min_samples_leaf=15, random_state=RANDOM_STATE)).fit(X_train, y_train)"
   ]
  },
  {
   "cell_type": "code",
   "execution_count": 123,
   "id": "c34573a8-d2eb-411c-a91e-5e24df9bd0ed",
   "metadata": {},
   "outputs": [
    {
     "data": {
      "text/plain": [
       "0.4994544779868342"
      ]
     },
     "execution_count": 123,
     "metadata": {},
     "output_type": "execute_result"
    }
   ],
   "source": [
    "model.score(X_test, y_test)"
   ]
  },
  {
   "cell_type": "code",
   "execution_count": 124,
   "id": "6a9b533b-a729-4b73-bed4-9865a7b32994",
   "metadata": {},
   "outputs": [],
   "source": [
    "from sklearn.metrics import mean_squared_error\n",
    "from sklearn.metrics import r2_score"
   ]
  },
  {
   "cell_type": "code",
   "execution_count": 125,
   "id": "d18945f7-0a79-4265-a816-b2ba63fe2db4",
   "metadata": {},
   "outputs": [
    {
     "name": "stdout",
     "output_type": "stream",
     "text": [
      "0.13294932285868907\n",
      "0.5888198736709183\n"
     ]
    }
   ],
   "source": [
    "pred_train_tree = model.predict(X_train)\n",
    "print(np.sqrt(mean_squared_error(y_train, pred_train_tree)))\n",
    "print(r2_score(y_train, pred_train_tree))"
   ]
  },
  {
   "cell_type": "code",
   "execution_count": 126,
   "id": "64005422-c935-4f85-b8d9-8c5db78a4de1",
   "metadata": {},
   "outputs": [
    {
     "name": "stdout",
     "output_type": "stream",
     "text": [
      "0.14950820660914718\n",
      "0.4994544779868342\n"
     ]
    }
   ],
   "source": [
    "pred_test_tree= model.predict(X_test)\n",
    "print(np.sqrt(mean_squared_error(y_test,pred_test_tree))) \n",
    "print(r2_score(y_test, pred_test_tree))"
   ]
  },
  {
   "cell_type": "code",
   "execution_count": null,
   "id": "7f1383a4-7d54-42d7-9add-1f15ce1a403f",
   "metadata": {},
   "outputs": [],
   "source": []
  },
  {
   "cell_type": "code",
   "execution_count": 127,
   "id": "6047c76c-6184-44c9-977d-ac612aa8b0c9",
   "metadata": {},
   "outputs": [],
   "source": [
    "from sklearn.ensemble import RandomForestRegressor"
   ]
  },
  {
   "cell_type": "code",
   "execution_count": 128,
   "id": "6e0fd9ff-f5d7-4c4b-a384-8c636edfcdd0",
   "metadata": {},
   "outputs": [],
   "source": [
    "model = MultiOutputRegressor(RandomForestRegressor(n_estimators=500, oob_score=True, random_state=RANDOM_STATE)).fit(X_train, y_train)"
   ]
  },
  {
   "cell_type": "code",
   "execution_count": 129,
   "id": "24901a4c-7f4e-4d54-9fb8-ac588d7c68f3",
   "metadata": {},
   "outputs": [
    {
     "data": {
      "text/plain": [
       "0.5345299466893981"
      ]
     },
     "execution_count": 129,
     "metadata": {},
     "output_type": "execute_result"
    }
   ],
   "source": [
    "model.score(X_test, y_test)"
   ]
  },
  {
   "cell_type": "code",
   "execution_count": null,
   "id": "30293bd2-4b04-4e93-83a8-eac21d5ebc67",
   "metadata": {},
   "outputs": [],
   "source": []
  },
  {
   "cell_type": "code",
   "execution_count": 130,
   "id": "a2630477-7f5d-4e5c-941f-473ac8ad59a1",
   "metadata": {},
   "outputs": [],
   "source": [
    "from sklearn.linear_model import SGDRegressor\n",
    "from sklearn.pipeline import make_pipeline\n",
    "from sklearn.preprocessing import StandardScaler"
   ]
  },
  {
   "cell_type": "code",
   "execution_count": 131,
   "id": "3cf1ea42-4fbd-47c6-8b98-3d985ba0ffe9",
   "metadata": {},
   "outputs": [],
   "source": [
    "model = (\n",
    "    make_pipeline(\n",
    "        StandardScaler(),\n",
    "        MultiOutputRegressor(SGDRegressor(max_iter=1000, tol=1e-3, random_state=RANDOM_STATE))\n",
    "    ).fit(X_train, y_train)\n",
    ")"
   ]
  },
  {
   "cell_type": "code",
   "execution_count": 132,
   "id": "5470c6d5-f858-4885-8b32-ac768144a313",
   "metadata": {},
   "outputs": [
    {
     "data": {
      "text/plain": [
       "0.4584130690007826"
      ]
     },
     "execution_count": 132,
     "metadata": {},
     "output_type": "execute_result"
    }
   ],
   "source": [
    "model.score(X_test, y_test)"
   ]
  },
  {
   "cell_type": "code",
   "execution_count": null,
   "id": "1a941254-87ab-445a-a3d7-2467512c89ed",
   "metadata": {},
   "outputs": [],
   "source": []
  }
 ],
 "metadata": {
  "kernelspec": {
   "display_name": "Python 3 (ipykernel)",
   "language": "python",
   "name": "python3"
  },
  "language_info": {
   "codemirror_mode": {
    "name": "ipython",
    "version": 3
   },
   "file_extension": ".py",
   "mimetype": "text/x-python",
   "name": "python",
   "nbconvert_exporter": "python",
   "pygments_lexer": "ipython3",
   "version": "3.7.10"
  }
 },
 "nbformat": 4,
 "nbformat_minor": 5
}
