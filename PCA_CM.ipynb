{
 "cells": [
  {
   "cell_type": "code",
   "execution_count": 18,
   "metadata": {},
   "outputs": [],
   "source": [
    "import pandas as pd \n",
    "import numpy as np\n",
    "import matplotlib.pyplot as plt\n",
    "from sklearn.decomposition import PCA\n",
    "from sklearn.preprocessing import StandardScaler\n",
    "from sklearn.model_selection import train_test_split\n",
    "%matplotlib inline"
   ]
  },
  {
   "cell_type": "markdown",
   "metadata": {},
   "source": [
    "## Load Dataset"
   ]
  },
  {
   "cell_type": "code",
   "execution_count": 133,
   "metadata": {},
   "outputs": [],
   "source": [
    "df = pd.read_excel(\"Data/bereinigte_DATEN_ano.xlsx\")"
   ]
  },
  {
   "cell_type": "code",
   "execution_count": 134,
   "metadata": {
    "scrolled": false
   },
   "outputs": [
    {
     "data": {
      "text/html": [
       "<div>\n",
       "<style scoped>\n",
       "    .dataframe tbody tr th:only-of-type {\n",
       "        vertical-align: middle;\n",
       "    }\n",
       "\n",
       "    .dataframe tbody tr th {\n",
       "        vertical-align: top;\n",
       "    }\n",
       "\n",
       "    .dataframe thead th {\n",
       "        text-align: right;\n",
       "    }\n",
       "</style>\n",
       "<table border=\"1\" class=\"dataframe\">\n",
       "  <thead>\n",
       "    <tr style=\"text-align: right;\">\n",
       "      <th></th>\n",
       "      <th>Unnamed: 0</th>\n",
       "      <th>V1</th>\n",
       "      <th>athlete</th>\n",
       "      <th>gender</th>\n",
       "      <th>run</th>\n",
       "      <th>location</th>\n",
       "      <th>date</th>\n",
       "      <th>TurnNr</th>\n",
       "      <th>MinimalRadius</th>\n",
       "      <th>VelocityAtMinRadius</th>\n",
       "      <th>...</th>\n",
       "      <th>azitonextnext</th>\n",
       "      <th>HORIZONTALGATEDISTANCE</th>\n",
       "      <th>VERTICALGATEDISTANCE</th>\n",
       "      <th>regularbs1orfs2</th>\n",
       "      <th>steepness_A</th>\n",
       "      <th>filter_$</th>\n",
       "      <th>goofy2_regular1</th>\n",
       "      <th>@2Ferse_3Zehe_4Ferse</th>\n",
       "      <th>Zehen1_Fersen2</th>\n",
       "      <th>DistanzSchätz</th>\n",
       "    </tr>\n",
       "  </thead>\n",
       "  <tbody>\n",
       "    <tr>\n",
       "      <th>0</th>\n",
       "      <td>0</td>\n",
       "      <td>35</td>\n",
       "      <td>3</td>\n",
       "      <td>1</td>\n",
       "      <td>1</td>\n",
       "      <td>Zermatt</td>\n",
       "      <td>200915</td>\n",
       "      <td>2</td>\n",
       "      <td>10.63</td>\n",
       "      <td>53.6</td>\n",
       "      <td>...</td>\n",
       "      <td>341.45477</td>\n",
       "      <td>8.515579</td>\n",
       "      <td>20.414966</td>\n",
       "      <td>1</td>\n",
       "      <td>2</td>\n",
       "      <td>0</td>\n",
       "      <td>1</td>\n",
       "      <td>2</td>\n",
       "      <td>2</td>\n",
       "      <td>30.635388</td>\n",
       "    </tr>\n",
       "    <tr>\n",
       "      <th>1</th>\n",
       "      <td>1</td>\n",
       "      <td>36</td>\n",
       "      <td>3</td>\n",
       "      <td>1</td>\n",
       "      <td>2</td>\n",
       "      <td>Zermatt</td>\n",
       "      <td>200915</td>\n",
       "      <td>2</td>\n",
       "      <td>11.05</td>\n",
       "      <td>52.3</td>\n",
       "      <td>...</td>\n",
       "      <td>341.45477</td>\n",
       "      <td>8.515579</td>\n",
       "      <td>20.414966</td>\n",
       "      <td>1</td>\n",
       "      <td>2</td>\n",
       "      <td>0</td>\n",
       "      <td>1</td>\n",
       "      <td>2</td>\n",
       "      <td>2</td>\n",
       "      <td>30.635388</td>\n",
       "    </tr>\n",
       "    <tr>\n",
       "      <th>2</th>\n",
       "      <td>2</td>\n",
       "      <td>37</td>\n",
       "      <td>3</td>\n",
       "      <td>1</td>\n",
       "      <td>3</td>\n",
       "      <td>Zermatt</td>\n",
       "      <td>200915</td>\n",
       "      <td>2</td>\n",
       "      <td>10.99</td>\n",
       "      <td>52.8</td>\n",
       "      <td>...</td>\n",
       "      <td>341.45477</td>\n",
       "      <td>8.515579</td>\n",
       "      <td>20.414966</td>\n",
       "      <td>1</td>\n",
       "      <td>2</td>\n",
       "      <td>0</td>\n",
       "      <td>1</td>\n",
       "      <td>2</td>\n",
       "      <td>2</td>\n",
       "      <td>30.635388</td>\n",
       "    </tr>\n",
       "    <tr>\n",
       "      <th>3</th>\n",
       "      <td>3</td>\n",
       "      <td>38</td>\n",
       "      <td>3</td>\n",
       "      <td>1</td>\n",
       "      <td>4</td>\n",
       "      <td>Zermatt</td>\n",
       "      <td>200915</td>\n",
       "      <td>2</td>\n",
       "      <td>11.41</td>\n",
       "      <td>52.2</td>\n",
       "      <td>...</td>\n",
       "      <td>341.45477</td>\n",
       "      <td>8.515579</td>\n",
       "      <td>20.414966</td>\n",
       "      <td>1</td>\n",
       "      <td>2</td>\n",
       "      <td>0</td>\n",
       "      <td>1</td>\n",
       "      <td>2</td>\n",
       "      <td>2</td>\n",
       "      <td>30.635388</td>\n",
       "    </tr>\n",
       "    <tr>\n",
       "      <th>4</th>\n",
       "      <td>4</td>\n",
       "      <td>39</td>\n",
       "      <td>5</td>\n",
       "      <td>1</td>\n",
       "      <td>1</td>\n",
       "      <td>Zermatt</td>\n",
       "      <td>200915</td>\n",
       "      <td>2</td>\n",
       "      <td>11.31</td>\n",
       "      <td>49.7</td>\n",
       "      <td>...</td>\n",
       "      <td>341.45477</td>\n",
       "      <td>8.515579</td>\n",
       "      <td>20.414966</td>\n",
       "      <td>1</td>\n",
       "      <td>2</td>\n",
       "      <td>0</td>\n",
       "      <td>2</td>\n",
       "      <td>3</td>\n",
       "      <td>1</td>\n",
       "      <td>30.635388</td>\n",
       "    </tr>\n",
       "  </tbody>\n",
       "</table>\n",
       "<p>5 rows × 51 columns</p>\n",
       "</div>"
      ],
      "text/plain": [
       "   Unnamed: 0  V1  athlete  gender  run location    date  TurnNr  \\\n",
       "0           0  35        3       1    1  Zermatt  200915       2   \n",
       "1           1  36        3       1    2  Zermatt  200915       2   \n",
       "2           2  37        3       1    3  Zermatt  200915       2   \n",
       "3           3  38        3       1    4  Zermatt  200915       2   \n",
       "4           4  39        5       1    1  Zermatt  200915       2   \n",
       "\n",
       "   MinimalRadius  VelocityAtMinRadius  ...  azitonextnext  \\\n",
       "0          10.63                 53.6  ...      341.45477   \n",
       "1          11.05                 52.3  ...      341.45477   \n",
       "2          10.99                 52.8  ...      341.45477   \n",
       "3          11.41                 52.2  ...      341.45477   \n",
       "4          11.31                 49.7  ...      341.45477   \n",
       "\n",
       "   HORIZONTALGATEDISTANCE  VERTICALGATEDISTANCE  regularbs1orfs2  steepness_A  \\\n",
       "0                8.515579             20.414966                1            2   \n",
       "1                8.515579             20.414966                1            2   \n",
       "2                8.515579             20.414966                1            2   \n",
       "3                8.515579             20.414966                1            2   \n",
       "4                8.515579             20.414966                1            2   \n",
       "\n",
       "   filter_$  goofy2_regular1  @2Ferse_3Zehe_4Ferse  Zehen1_Fersen2  \\\n",
       "0         0                1                     2               2   \n",
       "1         0                1                     2               2   \n",
       "2         0                1                     2               2   \n",
       "3         0                1                     2               2   \n",
       "4         0                2                     3               1   \n",
       "\n",
       "   DistanzSchätz  \n",
       "0      30.635388  \n",
       "1      30.635388  \n",
       "2      30.635388  \n",
       "3      30.635388  \n",
       "4      30.635388  \n",
       "\n",
       "[5 rows x 51 columns]"
      ]
     },
     "execution_count": 134,
     "metadata": {},
     "output_type": "execute_result"
    }
   ],
   "source": [
    "df.head()"
   ]
  },
  {
   "cell_type": "code",
   "execution_count": 135,
   "metadata": {
    "scrolled": true
   },
   "outputs": [
    {
     "data": {
      "text/plain": [
       "7"
      ]
     },
     "execution_count": 135,
     "metadata": {},
     "output_type": "execute_result"
    }
   ],
   "source": [
    "df['location'].nunique()"
   ]
  },
  {
   "cell_type": "code",
   "execution_count": 136,
   "metadata": {},
   "outputs": [],
   "source": [
    "df = df.loc[df['location'] == 'Zermatt']"
   ]
  },
  {
   "cell_type": "code",
   "execution_count": 137,
   "metadata": {},
   "outputs": [],
   "source": [
    "df = df.drop([\"date\", \"location\", \"Unnamed0\", \"vectortonext\", \"vector2Dtonext\", \"vectortonextnorm\", \"vector2Dtonextnorm\", \"projpttonext\", \"vectortonextnext\", \"vector2Dtonextnext\", \"vectortonextnextnorm\", \"vector2Dtonextnextnorm\"], axis=1)"
   ]
  },
  {
   "cell_type": "code",
   "execution_count": 138,
   "metadata": {},
   "outputs": [
    {
     "data": {
      "text/plain": [
       "Index(['Unnamed: 0', 'V1', 'athlete', 'gender', 'run', 'TurnNr',\n",
       "       'MinimalRadius', 'VelocityAtMinRadius', 'VelocityAtTurnEntry',\n",
       "       'VelocityAtTurnExit', 'TimeStarttoEnd', 'TimeStartToMinRad',\n",
       "       'TimeMinRadToEnd', 'GlideTime_endtostart', 'TimeStarttoEnd_2',\n",
       "       'Initiation', 'Completion', 'Gliding', 'GATEDISTANCE', 'dist2Dtonext',\n",
       "       'STEEPNESS', 'azitonext', 'slopechangetonext', 'angletonext',\n",
       "       'projtonext', 'offsettonext', 'dist3Dtonextnext', 'dts2Dtonextnext',\n",
       "       'slopetonextnext', 'azitonextnext', 'HORIZONTALGATEDISTANCE',\n",
       "       'VERTICALGATEDISTANCE', 'regularbs1orfs2', 'steepness_A', 'filter_$',\n",
       "       'goofy2_regular1', '@2Ferse_3Zehe_4Ferse', 'Zehen1_Fersen2',\n",
       "       'DistanzSchätz'],\n",
       "      dtype='object')"
      ]
     },
     "execution_count": 138,
     "metadata": {},
     "output_type": "execute_result"
    }
   ],
   "source": [
    "df.columns"
   ]
  },
  {
   "cell_type": "markdown",
   "metadata": {},
   "source": [
    "## Standardize the Data"
   ]
  },
  {
   "cell_type": "code",
   "execution_count": 139,
   "metadata": {},
   "outputs": [
    {
     "data": {
      "text/plain": [
       "39"
      ]
     },
     "execution_count": 139,
     "metadata": {},
     "output_type": "execute_result"
    }
   ],
   "source": [
    "len(df.columns)"
   ]
  },
  {
   "cell_type": "code",
   "execution_count": 142,
   "metadata": {},
   "outputs": [
    {
     "data": {
      "text/plain": [
       "0       0.157895\n",
       "1       0.153846\n",
       "2       0.153846\n",
       "3       0.136364\n",
       "4       0.134615\n",
       "          ...   \n",
       "1367    0.152174\n",
       "1368    0.179487\n",
       "1369    0.162162\n",
       "1370    0.179487\n",
       "1371    0.179487\n",
       "Name: Gliding, Length: 1372, dtype: float64"
      ]
     },
     "execution_count": 142,
     "metadata": {},
     "output_type": "execute_result"
    }
   ],
   "source": [
    "df.iloc[:, 17]"
   ]
  },
  {
   "cell_type": "code",
   "execution_count": 143,
   "metadata": {},
   "outputs": [],
   "source": [
    "features = df.columns[4:17]"
   ]
  },
  {
   "cell_type": "code",
   "execution_count": 144,
   "metadata": {},
   "outputs": [
    {
     "name": "stdout",
     "output_type": "stream",
     "text": [
      "Index(['run', 'TurnNr', 'MinimalRadius', 'VelocityAtMinRadius',\n",
      "       'VelocityAtTurnEntry', 'VelocityAtTurnExit', 'TimeStarttoEnd',\n",
      "       'TimeStartToMinRad', 'TimeMinRadToEnd', 'GlideTime_endtostart',\n",
      "       'TimeStarttoEnd_2', 'Initiation', 'Completion'],\n",
      "      dtype='object')\n"
     ]
    }
   ],
   "source": [
    "print(features)"
   ]
  },
  {
   "cell_type": "code",
   "execution_count": 145,
   "metadata": {},
   "outputs": [],
   "source": [
    "# distribute the dataset into two components X and Y\n",
    "x = df.iloc[:, 4:17]\n",
    "y = df.iloc[:, 3]"
   ]
  },
  {
   "cell_type": "code",
   "execution_count": 146,
   "metadata": {},
   "outputs": [],
   "source": [
    "x = StandardScaler().fit_transform(x)"
   ]
  },
  {
   "cell_type": "code",
   "execution_count": 147,
   "metadata": {},
   "outputs": [
    {
     "data": {
      "text/html": [
       "<div>\n",
       "<style scoped>\n",
       "    .dataframe tbody tr th:only-of-type {\n",
       "        vertical-align: middle;\n",
       "    }\n",
       "\n",
       "    .dataframe tbody tr th {\n",
       "        vertical-align: top;\n",
       "    }\n",
       "\n",
       "    .dataframe thead th {\n",
       "        text-align: right;\n",
       "    }\n",
       "</style>\n",
       "<table border=\"1\" class=\"dataframe\">\n",
       "  <thead>\n",
       "    <tr style=\"text-align: right;\">\n",
       "      <th></th>\n",
       "      <th>run</th>\n",
       "      <th>TurnNr</th>\n",
       "      <th>MinimalRadius</th>\n",
       "      <th>VelocityAtMinRadius</th>\n",
       "      <th>VelocityAtTurnEntry</th>\n",
       "      <th>VelocityAtTurnExit</th>\n",
       "      <th>TimeStarttoEnd</th>\n",
       "      <th>TimeStartToMinRad</th>\n",
       "      <th>TimeMinRadToEnd</th>\n",
       "      <th>GlideTime_endtostart</th>\n",
       "      <th>TimeStarttoEnd_2</th>\n",
       "      <th>Initiation</th>\n",
       "      <th>Completion</th>\n",
       "    </tr>\n",
       "  </thead>\n",
       "  <tbody>\n",
       "    <tr>\n",
       "      <th>0</th>\n",
       "      <td>-1.415831</td>\n",
       "      <td>-1.608522</td>\n",
       "      <td>-0.508820</td>\n",
       "      <td>0.870012</td>\n",
       "      <td>0.698833</td>\n",
       "      <td>0.660796</td>\n",
       "      <td>-0.756735</td>\n",
       "      <td>-0.617004</td>\n",
       "      <td>-0.496422</td>\n",
       "      <td>0.558471</td>\n",
       "      <td>-0.493041</td>\n",
       "      <td>-0.475874</td>\n",
       "      <td>-0.179454</td>\n",
       "    </tr>\n",
       "    <tr>\n",
       "      <th>1</th>\n",
       "      <td>-0.867871</td>\n",
       "      <td>-1.608522</td>\n",
       "      <td>-0.333047</td>\n",
       "      <td>0.599001</td>\n",
       "      <td>1.122574</td>\n",
       "      <td>0.749057</td>\n",
       "      <td>-0.591699</td>\n",
       "      <td>-0.832023</td>\n",
       "      <td>0.082245</td>\n",
       "      <td>0.558471</td>\n",
       "      <td>-0.340412</td>\n",
       "      <td>-0.955203</td>\n",
       "      <td>0.519198</td>\n",
       "    </tr>\n",
       "    <tr>\n",
       "      <th>2</th>\n",
       "      <td>-0.319910</td>\n",
       "      <td>-1.608522</td>\n",
       "      <td>-0.358157</td>\n",
       "      <td>0.703236</td>\n",
       "      <td>0.974265</td>\n",
       "      <td>1.322750</td>\n",
       "      <td>-0.591699</td>\n",
       "      <td>-0.832023</td>\n",
       "      <td>0.082245</td>\n",
       "      <td>0.558471</td>\n",
       "      <td>-0.340412</td>\n",
       "      <td>-0.955203</td>\n",
       "      <td>0.519198</td>\n",
       "    </tr>\n",
       "    <tr>\n",
       "      <th>3</th>\n",
       "      <td>0.228051</td>\n",
       "      <td>-1.608522</td>\n",
       "      <td>-0.182384</td>\n",
       "      <td>0.578154</td>\n",
       "      <td>0.444589</td>\n",
       "      <td>0.594601</td>\n",
       "      <td>0.233480</td>\n",
       "      <td>0.673110</td>\n",
       "      <td>-0.496422</td>\n",
       "      <td>0.558471</td>\n",
       "      <td>0.422733</td>\n",
       "      <td>0.562670</td>\n",
       "      <td>-1.170271</td>\n",
       "    </tr>\n",
       "    <tr>\n",
       "      <th>4</th>\n",
       "      <td>-1.415831</td>\n",
       "      <td>-1.608522</td>\n",
       "      <td>-0.224235</td>\n",
       "      <td>0.056980</td>\n",
       "      <td>-0.508829</td>\n",
       "      <td>1.300685</td>\n",
       "      <td>1.388730</td>\n",
       "      <td>1.748205</td>\n",
       "      <td>0.082245</td>\n",
       "      <td>0.970640</td>\n",
       "      <td>1.643765</td>\n",
       "      <td>0.815648</td>\n",
       "      <td>-1.471962</td>\n",
       "    </tr>\n",
       "  </tbody>\n",
       "</table>\n",
       "</div>"
      ],
      "text/plain": [
       "        run    TurnNr  MinimalRadius  VelocityAtMinRadius  \\\n",
       "0 -1.415831 -1.608522      -0.508820             0.870012   \n",
       "1 -0.867871 -1.608522      -0.333047             0.599001   \n",
       "2 -0.319910 -1.608522      -0.358157             0.703236   \n",
       "3  0.228051 -1.608522      -0.182384             0.578154   \n",
       "4 -1.415831 -1.608522      -0.224235             0.056980   \n",
       "\n",
       "   VelocityAtTurnEntry  VelocityAtTurnExit  TimeStarttoEnd  TimeStartToMinRad  \\\n",
       "0             0.698833            0.660796       -0.756735          -0.617004   \n",
       "1             1.122574            0.749057       -0.591699          -0.832023   \n",
       "2             0.974265            1.322750       -0.591699          -0.832023   \n",
       "3             0.444589            0.594601        0.233480           0.673110   \n",
       "4            -0.508829            1.300685        1.388730           1.748205   \n",
       "\n",
       "   TimeMinRadToEnd  GlideTime_endtostart  TimeStarttoEnd_2  Initiation  \\\n",
       "0        -0.496422              0.558471         -0.493041   -0.475874   \n",
       "1         0.082245              0.558471         -0.340412   -0.955203   \n",
       "2         0.082245              0.558471         -0.340412   -0.955203   \n",
       "3        -0.496422              0.558471          0.422733    0.562670   \n",
       "4         0.082245              0.970640          1.643765    0.815648   \n",
       "\n",
       "   Completion  \n",
       "0   -0.179454  \n",
       "1    0.519198  \n",
       "2    0.519198  \n",
       "3   -1.170271  \n",
       "4   -1.471962  "
      ]
     },
     "execution_count": 147,
     "metadata": {},
     "output_type": "execute_result"
    }
   ],
   "source": [
    "pd.DataFrame(data = x, columns = features).head()"
   ]
  },
  {
   "cell_type": "markdown",
   "metadata": {},
   "source": [
    "## PCA Projection to 2D"
   ]
  },
  {
   "cell_type": "code",
   "execution_count": 148,
   "metadata": {},
   "outputs": [],
   "source": [
    "pca = PCA(n_components=3)"
   ]
  },
  {
   "cell_type": "code",
   "execution_count": 149,
   "metadata": {},
   "outputs": [],
   "source": [
    "principalComponents = pca.fit_transform(x)"
   ]
  },
  {
   "cell_type": "code",
   "execution_count": 150,
   "metadata": {},
   "outputs": [],
   "source": [
    "principalDf = pd.DataFrame(data = principalComponents\n",
    "             , columns = ['principal component 1', 'principal component 2', 'principal component 3'])"
   ]
  },
  {
   "cell_type": "code",
   "execution_count": 151,
   "metadata": {},
   "outputs": [
    {
     "data": {
      "text/html": [
       "<div>\n",
       "<style scoped>\n",
       "    .dataframe tbody tr th:only-of-type {\n",
       "        vertical-align: middle;\n",
       "    }\n",
       "\n",
       "    .dataframe tbody tr th {\n",
       "        vertical-align: top;\n",
       "    }\n",
       "\n",
       "    .dataframe thead th {\n",
       "        text-align: right;\n",
       "    }\n",
       "</style>\n",
       "<table border=\"1\" class=\"dataframe\">\n",
       "  <thead>\n",
       "    <tr style=\"text-align: right;\">\n",
       "      <th></th>\n",
       "      <th>principal component 1</th>\n",
       "      <th>principal component 2</th>\n",
       "      <th>principal component 3</th>\n",
       "    </tr>\n",
       "  </thead>\n",
       "  <tbody>\n",
       "    <tr>\n",
       "      <th>0</th>\n",
       "      <td>-1.245515</td>\n",
       "      <td>-0.338988</td>\n",
       "      <td>-0.368270</td>\n",
       "    </tr>\n",
       "    <tr>\n",
       "      <th>1</th>\n",
       "      <td>-1.292964</td>\n",
       "      <td>0.637637</td>\n",
       "      <td>-0.762438</td>\n",
       "    </tr>\n",
       "    <tr>\n",
       "      <th>2</th>\n",
       "      <td>-1.435687</td>\n",
       "      <td>0.727368</td>\n",
       "      <td>-0.720285</td>\n",
       "    </tr>\n",
       "    <tr>\n",
       "      <th>3</th>\n",
       "      <td>0.378374</td>\n",
       "      <td>-0.834475</td>\n",
       "      <td>1.215738</td>\n",
       "    </tr>\n",
       "    <tr>\n",
       "      <th>4</th>\n",
       "      <td>1.829541</td>\n",
       "      <td>-0.431842</td>\n",
       "      <td>2.592395</td>\n",
       "    </tr>\n",
       "  </tbody>\n",
       "</table>\n",
       "</div>"
      ],
      "text/plain": [
       "   principal component 1  principal component 2  principal component 3\n",
       "0              -1.245515              -0.338988              -0.368270\n",
       "1              -1.292964               0.637637              -0.762438\n",
       "2              -1.435687               0.727368              -0.720285\n",
       "3               0.378374              -0.834475               1.215738\n",
       "4               1.829541              -0.431842               2.592395"
      ]
     },
     "execution_count": 151,
     "metadata": {},
     "output_type": "execute_result"
    }
   ],
   "source": [
    "principalDf.head(5)"
   ]
  },
  {
   "cell_type": "code",
   "execution_count": 152,
   "metadata": {},
   "outputs": [
    {
     "data": {
      "text/html": [
       "<div>\n",
       "<style scoped>\n",
       "    .dataframe tbody tr th:only-of-type {\n",
       "        vertical-align: middle;\n",
       "    }\n",
       "\n",
       "    .dataframe tbody tr th {\n",
       "        vertical-align: top;\n",
       "    }\n",
       "\n",
       "    .dataframe thead th {\n",
       "        text-align: right;\n",
       "    }\n",
       "</style>\n",
       "<table border=\"1\" class=\"dataframe\">\n",
       "  <thead>\n",
       "    <tr style=\"text-align: right;\">\n",
       "      <th></th>\n",
       "      <th>athlete</th>\n",
       "    </tr>\n",
       "  </thead>\n",
       "  <tbody>\n",
       "    <tr>\n",
       "      <th>0</th>\n",
       "      <td>3</td>\n",
       "    </tr>\n",
       "    <tr>\n",
       "      <th>1</th>\n",
       "      <td>3</td>\n",
       "    </tr>\n",
       "    <tr>\n",
       "      <th>2</th>\n",
       "      <td>3</td>\n",
       "    </tr>\n",
       "    <tr>\n",
       "      <th>3</th>\n",
       "      <td>3</td>\n",
       "    </tr>\n",
       "    <tr>\n",
       "      <th>4</th>\n",
       "      <td>5</td>\n",
       "    </tr>\n",
       "  </tbody>\n",
       "</table>\n",
       "</div>"
      ],
      "text/plain": [
       "   athlete\n",
       "0        3\n",
       "1        3\n",
       "2        3\n",
       "3        3\n",
       "4        5"
      ]
     },
     "execution_count": 152,
     "metadata": {},
     "output_type": "execute_result"
    }
   ],
   "source": [
    "df[['athlete']].head()"
   ]
  },
  {
   "cell_type": "code",
   "execution_count": 153,
   "metadata": {},
   "outputs": [
    {
     "data": {
      "text/html": [
       "<div>\n",
       "<style scoped>\n",
       "    .dataframe tbody tr th:only-of-type {\n",
       "        vertical-align: middle;\n",
       "    }\n",
       "\n",
       "    .dataframe tbody tr th {\n",
       "        vertical-align: top;\n",
       "    }\n",
       "\n",
       "    .dataframe thead th {\n",
       "        text-align: right;\n",
       "    }\n",
       "</style>\n",
       "<table border=\"1\" class=\"dataframe\">\n",
       "  <thead>\n",
       "    <tr style=\"text-align: right;\">\n",
       "      <th></th>\n",
       "      <th>principal component 1</th>\n",
       "      <th>principal component 2</th>\n",
       "      <th>principal component 3</th>\n",
       "      <th>athlete</th>\n",
       "    </tr>\n",
       "  </thead>\n",
       "  <tbody>\n",
       "    <tr>\n",
       "      <th>0</th>\n",
       "      <td>-1.245515</td>\n",
       "      <td>-0.338988</td>\n",
       "      <td>-0.368270</td>\n",
       "      <td>3</td>\n",
       "    </tr>\n",
       "    <tr>\n",
       "      <th>1</th>\n",
       "      <td>-1.292964</td>\n",
       "      <td>0.637637</td>\n",
       "      <td>-0.762438</td>\n",
       "      <td>3</td>\n",
       "    </tr>\n",
       "    <tr>\n",
       "      <th>2</th>\n",
       "      <td>-1.435687</td>\n",
       "      <td>0.727368</td>\n",
       "      <td>-0.720285</td>\n",
       "      <td>3</td>\n",
       "    </tr>\n",
       "    <tr>\n",
       "      <th>3</th>\n",
       "      <td>0.378374</td>\n",
       "      <td>-0.834475</td>\n",
       "      <td>1.215738</td>\n",
       "      <td>3</td>\n",
       "    </tr>\n",
       "    <tr>\n",
       "      <th>4</th>\n",
       "      <td>1.829541</td>\n",
       "      <td>-0.431842</td>\n",
       "      <td>2.592395</td>\n",
       "      <td>5</td>\n",
       "    </tr>\n",
       "  </tbody>\n",
       "</table>\n",
       "</div>"
      ],
      "text/plain": [
       "   principal component 1  principal component 2  principal component 3  \\\n",
       "0              -1.245515              -0.338988              -0.368270   \n",
       "1              -1.292964               0.637637              -0.762438   \n",
       "2              -1.435687               0.727368              -0.720285   \n",
       "3               0.378374              -0.834475               1.215738   \n",
       "4               1.829541              -0.431842               2.592395   \n",
       "\n",
       "   athlete  \n",
       "0        3  \n",
       "1        3  \n",
       "2        3  \n",
       "3        3  \n",
       "4        5  "
      ]
     },
     "execution_count": 153,
     "metadata": {},
     "output_type": "execute_result"
    }
   ],
   "source": [
    "finalDf = pd.concat([principalDf, df[['athlete']]], axis = 1)\n",
    "finalDf.head(5)"
   ]
  },
  {
   "cell_type": "markdown",
   "metadata": {},
   "source": [
    "## Visualize 2D Projection"
   ]
  },
  {
   "cell_type": "code",
   "execution_count": 154,
   "metadata": {},
   "outputs": [
    {
     "data": {
      "text/plain": [
       "6"
      ]
     },
     "execution_count": 154,
     "metadata": {},
     "output_type": "execute_result"
    }
   ],
   "source": [
    "df['athlete'].nunique()"
   ]
  },
  {
   "cell_type": "code",
   "execution_count": 155,
   "metadata": {},
   "outputs": [
    {
     "data": {
      "image/png": "[encoded data removed]",
      "text/plain": [
       "<Figure size 576x576 with 1 Axes>"
      ]
     },
     "metadata": {
      "needs_background": "light"
     },
     "output_type": "display_data"
    }
   ],
   "source": [
    "fig = plt.figure(figsize = (8,8))\n",
    "ax = fig.add_subplot(1,1,1) \n",
    "ax.set_xlabel('Principal Component 1', fontsize = 15)\n",
    "ax.set_ylabel('Principal Component 2', fontsize = 15)\n",
    "ax.set_title('3 Component PCA', fontsize = 20)\n",
    "\n",
    "\n",
    "targets = [1, 2, 3, 4, 5, 6, 7, 8]\n",
    "colors = ['r', 'g', 'b', 'orange', 'black', 'grey', 'brown', 'cyan']\n",
    "for target, color in zip(targets,colors):\n",
    "    indicesToKeep = finalDf['athlete'] == target\n",
    "    ax.scatter(finalDf.loc[indicesToKeep, 'principal component 1']\n",
    "               , finalDf.loc[indicesToKeep, 'principal component 2']\n",
    "               , c = color\n",
    "               , s = 50)\n",
    "ax.legend(targets)\n",
    "ax.grid()"
   ]
  },
  {
   "cell_type": "code",
   "execution_count": null,
   "metadata": {},
   "outputs": [],
   "source": []
  },
  {
   "cell_type": "code",
   "execution_count": null,
   "metadata": {},
   "outputs": [],
   "source": []
  },
  {
   "cell_type": "code",
   "execution_count": null,
   "metadata": {},
   "outputs": [],
   "source": []
  }
 ],
 "metadata": {
  "kernelspec": {
   "display_name": "Python 3",
   "language": "python",
   "name": "python3"
  },
  "language_info": {
   "codemirror_mode": {
    "name": "ipython",
    "version": 3
   },
   "file_extension": ".py",
   "mimetype": "text/x-python",
   "name": "python",
   "nbconvert_exporter": "python",
   "pygments_lexer": "ipython3",
   "version": "3.8.5"
  }
 },
 "nbformat": 4,
 "nbformat_minor": 4
}
