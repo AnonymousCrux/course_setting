{
 "cells": [
  {
   "cell_type": "code",
   "execution_count": 436,
   "metadata": {},
   "outputs": [],
   "source": [
    "import pandas as pd\n",
    "import numpy as np\n",
    "from sklearn import preprocessing\n",
    "from sklearn import linear_model\n",
    "import statsmodels.api as sm\n",
    "from sklearn.multioutput import MultiOutputRegressor\n",
    "from sklearn.model_selection import train_test_split\n",
    "from sklearn.preprocessing import LabelEncoder\n",
    "from sklearn.preprocessing import OneHotEncoder"
   ]
  },
  {
   "cell_type": "code",
   "execution_count": 452,
   "metadata": {},
   "outputs": [],
   "source": [
    "df = pd.read_excel('Data/bereinigte_DATEN_ano.xlsx')"
   ]
  },
  {
   "cell_type": "code",
   "execution_count": 453,
   "metadata": {},
   "outputs": [
    {
     "data": {
      "text/html": [
       "<div>\n",
       "<style scoped>\n",
       "    .dataframe tbody tr th:only-of-type {\n",
       "        vertical-align: middle;\n",
       "    }\n",
       "\n",
       "    .dataframe tbody tr th {\n",
       "        vertical-align: top;\n",
       "    }\n",
       "\n",
       "    .dataframe thead th {\n",
       "        text-align: right;\n",
       "    }\n",
       "</style>\n",
       "<table border=\"1\" class=\"dataframe\">\n",
       "  <thead>\n",
       "    <tr style=\"text-align: right;\">\n",
       "      <th></th>\n",
       "      <th>Unnamed: 0</th>\n",
       "      <th>V1</th>\n",
       "      <th>athlete</th>\n",
       "      <th>gender</th>\n",
       "      <th>run</th>\n",
       "      <th>location</th>\n",
       "      <th>date</th>\n",
       "      <th>TurnNr</th>\n",
       "      <th>MinimalRadius</th>\n",
       "      <th>VelocityAtMinRadius</th>\n",
       "      <th>...</th>\n",
       "      <th>azitonextnext</th>\n",
       "      <th>HORIZONTALGATEDISTANCE</th>\n",
       "      <th>VERTICALGATEDISTANCE</th>\n",
       "      <th>regularbs1orfs2</th>\n",
       "      <th>steepness_A</th>\n",
       "      <th>filter_$</th>\n",
       "      <th>goofy2_regular1</th>\n",
       "      <th>@2Ferse_3Zehe_4Ferse</th>\n",
       "      <th>Zehen1_Fersen2</th>\n",
       "      <th>DistanzSchätz</th>\n",
       "    </tr>\n",
       "  </thead>\n",
       "  <tbody>\n",
       "    <tr>\n",
       "      <th>0</th>\n",
       "      <td>0</td>\n",
       "      <td>35</td>\n",
       "      <td>3</td>\n",
       "      <td>1</td>\n",
       "      <td>1</td>\n",
       "      <td>Zermatt</td>\n",
       "      <td>200915</td>\n",
       "      <td>2</td>\n",
       "      <td>10.63</td>\n",
       "      <td>53.6</td>\n",
       "      <td>...</td>\n",
       "      <td>341.45477</td>\n",
       "      <td>8.515579</td>\n",
       "      <td>20.414966</td>\n",
       "      <td>1</td>\n",
       "      <td>2</td>\n",
       "      <td>0</td>\n",
       "      <td>1</td>\n",
       "      <td>2</td>\n",
       "      <td>2</td>\n",
       "      <td>30.635388</td>\n",
       "    </tr>\n",
       "    <tr>\n",
       "      <th>1</th>\n",
       "      <td>1</td>\n",
       "      <td>36</td>\n",
       "      <td>3</td>\n",
       "      <td>1</td>\n",
       "      <td>2</td>\n",
       "      <td>Zermatt</td>\n",
       "      <td>200915</td>\n",
       "      <td>2</td>\n",
       "      <td>11.05</td>\n",
       "      <td>52.3</td>\n",
       "      <td>...</td>\n",
       "      <td>341.45477</td>\n",
       "      <td>8.515579</td>\n",
       "      <td>20.414966</td>\n",
       "      <td>1</td>\n",
       "      <td>2</td>\n",
       "      <td>0</td>\n",
       "      <td>1</td>\n",
       "      <td>2</td>\n",
       "      <td>2</td>\n",
       "      <td>30.635388</td>\n",
       "    </tr>\n",
       "    <tr>\n",
       "      <th>2</th>\n",
       "      <td>2</td>\n",
       "      <td>37</td>\n",
       "      <td>3</td>\n",
       "      <td>1</td>\n",
       "      <td>3</td>\n",
       "      <td>Zermatt</td>\n",
       "      <td>200915</td>\n",
       "      <td>2</td>\n",
       "      <td>10.99</td>\n",
       "      <td>52.8</td>\n",
       "      <td>...</td>\n",
       "      <td>341.45477</td>\n",
       "      <td>8.515579</td>\n",
       "      <td>20.414966</td>\n",
       "      <td>1</td>\n",
       "      <td>2</td>\n",
       "      <td>0</td>\n",
       "      <td>1</td>\n",
       "      <td>2</td>\n",
       "      <td>2</td>\n",
       "      <td>30.635388</td>\n",
       "    </tr>\n",
       "    <tr>\n",
       "      <th>3</th>\n",
       "      <td>3</td>\n",
       "      <td>38</td>\n",
       "      <td>3</td>\n",
       "      <td>1</td>\n",
       "      <td>4</td>\n",
       "      <td>Zermatt</td>\n",
       "      <td>200915</td>\n",
       "      <td>2</td>\n",
       "      <td>11.41</td>\n",
       "      <td>52.2</td>\n",
       "      <td>...</td>\n",
       "      <td>341.45477</td>\n",
       "      <td>8.515579</td>\n",
       "      <td>20.414966</td>\n",
       "      <td>1</td>\n",
       "      <td>2</td>\n",
       "      <td>0</td>\n",
       "      <td>1</td>\n",
       "      <td>2</td>\n",
       "      <td>2</td>\n",
       "      <td>30.635388</td>\n",
       "    </tr>\n",
       "    <tr>\n",
       "      <th>4</th>\n",
       "      <td>4</td>\n",
       "      <td>39</td>\n",
       "      <td>5</td>\n",
       "      <td>1</td>\n",
       "      <td>1</td>\n",
       "      <td>Zermatt</td>\n",
       "      <td>200915</td>\n",
       "      <td>2</td>\n",
       "      <td>11.31</td>\n",
       "      <td>49.7</td>\n",
       "      <td>...</td>\n",
       "      <td>341.45477</td>\n",
       "      <td>8.515579</td>\n",
       "      <td>20.414966</td>\n",
       "      <td>1</td>\n",
       "      <td>2</td>\n",
       "      <td>0</td>\n",
       "      <td>2</td>\n",
       "      <td>3</td>\n",
       "      <td>1</td>\n",
       "      <td>30.635388</td>\n",
       "    </tr>\n",
       "  </tbody>\n",
       "</table>\n",
       "<p>5 rows × 51 columns</p>\n",
       "</div>"
      ],
      "text/plain": [
       "   Unnamed: 0  V1  athlete  gender  run location    date  TurnNr  \\\n",
       "0           0  35        3       1    1  Zermatt  200915       2   \n",
       "1           1  36        3       1    2  Zermatt  200915       2   \n",
       "2           2  37        3       1    3  Zermatt  200915       2   \n",
       "3           3  38        3       1    4  Zermatt  200915       2   \n",
       "4           4  39        5       1    1  Zermatt  200915       2   \n",
       "\n",
       "   MinimalRadius  VelocityAtMinRadius  ...  azitonextnext  \\\n",
       "0          10.63                 53.6  ...      341.45477   \n",
       "1          11.05                 52.3  ...      341.45477   \n",
       "2          10.99                 52.8  ...      341.45477   \n",
       "3          11.41                 52.2  ...      341.45477   \n",
       "4          11.31                 49.7  ...      341.45477   \n",
       "\n",
       "   HORIZONTALGATEDISTANCE  VERTICALGATEDISTANCE  regularbs1orfs2  steepness_A  \\\n",
       "0                8.515579             20.414966                1            2   \n",
       "1                8.515579             20.414966                1            2   \n",
       "2                8.515579             20.414966                1            2   \n",
       "3                8.515579             20.414966                1            2   \n",
       "4                8.515579             20.414966                1            2   \n",
       "\n",
       "   filter_$  goofy2_regular1  @2Ferse_3Zehe_4Ferse  Zehen1_Fersen2  \\\n",
       "0         0                1                     2               2   \n",
       "1         0                1                     2               2   \n",
       "2         0                1                     2               2   \n",
       "3         0                1                     2               2   \n",
       "4         0                2                     3               1   \n",
       "\n",
       "   DistanzSchätz  \n",
       "0      30.635388  \n",
       "1      30.635388  \n",
       "2      30.635388  \n",
       "3      30.635388  \n",
       "4      30.635388  \n",
       "\n",
       "[5 rows x 51 columns]"
      ]
     },
     "execution_count": 453,
     "metadata": {},
     "output_type": "execute_result"
    }
   ],
   "source": [
    "df.head()"
   ]
  },
  {
   "cell_type": "code",
   "execution_count": 454,
   "metadata": {},
   "outputs": [],
   "source": [
    "df_clean = df.drop([\"Unnamed: 0\", \"V1\", \"date\", \"vectortonext\", \"vector2Dtonext\", \"vectortonextnorm\", \"vector2Dtonextnorm\", \"projpttonext\", \"vectortonextnext\", \"vector2Dtonextnext\", \"vectortonextnextnorm\", \"vector2Dtonextnextnorm\", 'DistanzSchätz','Zehen1_Fersen2', \n",
    "                    '@2Ferse_3Zehe_4Ferse', 'filter_$', 'goofy2_regular1', 'athlete', 'run', 'Unnamed0', 'regularbs1orfs2'], axis=1)"
   ]
  },
  {
   "cell_type": "code",
   "execution_count": 455,
   "metadata": {},
   "outputs": [],
   "source": [
    "# remove all time parameters\n",
    "df_clean = df_clean.drop([\"TimeStarttoEnd\", \"TimeStartToMinRad\", \"TimeMinRadToEnd\", \"GlideTime_endtostart\", \"TimeStarttoEnd_2\"], axis =1)"
   ]
  },
  {
   "cell_type": "code",
   "execution_count": 456,
   "metadata": {},
   "outputs": [
    {
     "data": {
      "text/plain": [
       "Index(['gender', 'location', 'TurnNr', 'MinimalRadius', 'VelocityAtMinRadius',\n",
       "       'VelocityAtTurnEntry', 'VelocityAtTurnExit', 'Initiation', 'Completion',\n",
       "       'Gliding', 'GATEDISTANCE', 'dist2Dtonext', 'STEEPNESS', 'azitonext',\n",
       "       'slopechangetonext', 'angletonext', 'projtonext', 'offsettonext',\n",
       "       'dist3Dtonextnext', 'dts2Dtonextnext', 'slopetonextnext',\n",
       "       'azitonextnext', 'HORIZONTALGATEDISTANCE', 'VERTICALGATEDISTANCE',\n",
       "       'steepness_A'],\n",
       "      dtype='object')"
      ]
     },
     "execution_count": 456,
     "metadata": {},
     "output_type": "execute_result"
    }
   ],
   "source": [
    "df_clean.columns"
   ]
  },
  {
   "cell_type": "code",
   "execution_count": 457,
   "metadata": {},
   "outputs": [
    {
     "data": {
      "text/plain": [
       "Index(['Unnamed: 0', 'V1', 'athlete', 'gender', 'run', 'location', 'date',\n",
       "       'TurnNr', 'MinimalRadius', 'VelocityAtMinRadius', 'VelocityAtTurnEntry',\n",
       "       'VelocityAtTurnExit', 'TimeStarttoEnd', 'TimeStartToMinRad',\n",
       "       'TimeMinRadToEnd', 'GlideTime_endtostart', 'TimeStarttoEnd_2',\n",
       "       'Initiation', 'Completion', 'Gliding', 'Unnamed0', 'vectortonext',\n",
       "       'vector2Dtonext', 'GATEDISTANCE', 'dist2Dtonext', 'vectortonextnorm',\n",
       "       'vector2Dtonextnorm', 'STEEPNESS', 'azitonext', 'slopechangetonext',\n",
       "       'angletonext', 'projtonext', 'projpttonext', 'offsettonext',\n",
       "       'vectortonextnext', 'vector2Dtonextnext', 'dist3Dtonextnext',\n",
       "       'dts2Dtonextnext', 'vectortonextnextnorm', 'vector2Dtonextnextnorm',\n",
       "       'slopetonextnext', 'azitonextnext', 'HORIZONTALGATEDISTANCE',\n",
       "       'VERTICALGATEDISTANCE', 'regularbs1orfs2', 'steepness_A', 'filter_$',\n",
       "       'goofy2_regular1', '@2Ferse_3Zehe_4Ferse', 'Zehen1_Fersen2',\n",
       "       'DistanzSchätz'],\n",
       "      dtype='object')"
      ]
     },
     "execution_count": 457,
     "metadata": {},
     "output_type": "execute_result"
    }
   ],
   "source": [
    "df.columns"
   ]
  },
  {
   "cell_type": "code",
   "execution_count": 458,
   "metadata": {},
   "outputs": [
    {
     "data": {
      "text/plain": [
       "['Zermatt',\n",
       " 'Stelvio',\n",
       " 'Diavolezza',\n",
       " 'Davos',\n",
       " 'Kreuzbergpass',\n",
       " 'Grindelwald',\n",
       " 'Simonhöhe']"
      ]
     },
     "execution_count": 458,
     "metadata": {},
     "output_type": "execute_result"
    }
   ],
   "source": [
    "possible_loc = df[\"location\"].unique().tolist()\n",
    "possible_loc"
   ]
  },
  {
   "cell_type": "code",
   "execution_count": 459,
   "metadata": {},
   "outputs": [],
   "source": [
    "label_encoder = LabelEncoder()"
   ]
  },
  {
   "cell_type": "code",
   "execution_count": 460,
   "metadata": {},
   "outputs": [
    {
     "data": {
      "text/plain": [
       "0       6\n",
       "1       6\n",
       "2       6\n",
       "3       6\n",
       "4       6\n",
       "       ..\n",
       "6685    4\n",
       "6686    4\n",
       "6687    4\n",
       "6688    4\n",
       "6689    4\n",
       "Name: location, Length: 6690, dtype: int64"
      ]
     },
     "execution_count": 460,
     "metadata": {},
     "output_type": "execute_result"
    }
   ],
   "source": [
    "df[\"location\"] = label_encoder.fit_transform(df[\"location\"])\n",
    "df[\"location\"]"
   ]
  },
  {
   "cell_type": "code",
   "execution_count": 461,
   "metadata": {},
   "outputs": [
    {
     "data": {
      "text/plain": [
       "[6, 5, 1, 0, 3, 2, 4]"
      ]
     },
     "execution_count": 461,
     "metadata": {},
     "output_type": "execute_result"
    }
   ],
   "source": [
    "possible_loc = df[\"location\"].unique().tolist()\n",
    "possible_loc"
   ]
  },
  {
   "cell_type": "code",
   "execution_count": 462,
   "metadata": {},
   "outputs": [
    {
     "data": {
      "text/plain": [
       "14.16438565022423"
      ]
     },
     "execution_count": 462,
     "metadata": {},
     "output_type": "execute_result"
    }
   ],
   "source": [
    "avg_MinRad = df[\"MinimalRadius\"].mean()\n",
    "avg_MinRad"
   ]
  },
  {
   "cell_type": "code",
   "execution_count": 496,
   "metadata": {},
   "outputs": [],
   "source": [
    "possible_param = ['location', 'gender', 'MinimalRadius', 'VelocityAtMinRadius', 'VelocityAtTurnEntry',\n",
    "       'VelocityAtTurnExit','STEEPNESS','HORIZONTALGATEDISTANCE', 'VERTICALGATEDISTANCE']"
   ]
  },
  {
   "cell_type": "code",
   "execution_count": 497,
   "metadata": {},
   "outputs": [],
   "source": [
    "x = df[possible_param]\n",
    "y = df[['TimeStarttoEnd_2']]"
   ]
  },
  {
   "cell_type": "code",
   "execution_count": 498,
   "metadata": {},
   "outputs": [
    {
     "data": {
      "text/plain": [
       "9"
      ]
     },
     "execution_count": 498,
     "metadata": {},
     "output_type": "execute_result"
    }
   ],
   "source": [
    "len(x.columns)"
   ]
  },
  {
   "cell_type": "code",
   "execution_count": 499,
   "metadata": {},
   "outputs": [
    {
     "data": {
      "text/html": [
       "<div>\n",
       "<style scoped>\n",
       "    .dataframe tbody tr th:only-of-type {\n",
       "        vertical-align: middle;\n",
       "    }\n",
       "\n",
       "    .dataframe tbody tr th {\n",
       "        vertical-align: top;\n",
       "    }\n",
       "\n",
       "    .dataframe thead th {\n",
       "        text-align: right;\n",
       "    }\n",
       "</style>\n",
       "<table border=\"1\" class=\"dataframe\">\n",
       "  <thead>\n",
       "    <tr style=\"text-align: right;\">\n",
       "      <th></th>\n",
       "      <th>location</th>\n",
       "      <th>gender</th>\n",
       "      <th>MinimalRadius</th>\n",
       "      <th>VelocityAtMinRadius</th>\n",
       "      <th>VelocityAtTurnEntry</th>\n",
       "      <th>VelocityAtTurnExit</th>\n",
       "      <th>STEEPNESS</th>\n",
       "      <th>HORIZONTALGATEDISTANCE</th>\n",
       "      <th>VERTICALGATEDISTANCE</th>\n",
       "    </tr>\n",
       "  </thead>\n",
       "  <tbody>\n",
       "    <tr>\n",
       "      <th>0</th>\n",
       "      <td>6</td>\n",
       "      <td>1</td>\n",
       "      <td>10.63</td>\n",
       "      <td>53.6</td>\n",
       "      <td>55.7</td>\n",
       "      <td>55.2</td>\n",
       "      <td>-16.13636</td>\n",
       "      <td>8.515579</td>\n",
       "      <td>20.414966</td>\n",
       "    </tr>\n",
       "    <tr>\n",
       "      <th>1</th>\n",
       "      <td>6</td>\n",
       "      <td>1</td>\n",
       "      <td>11.05</td>\n",
       "      <td>52.3</td>\n",
       "      <td>57.7</td>\n",
       "      <td>55.6</td>\n",
       "      <td>-16.13636</td>\n",
       "      <td>8.515579</td>\n",
       "      <td>20.414966</td>\n",
       "    </tr>\n",
       "    <tr>\n",
       "      <th>2</th>\n",
       "      <td>6</td>\n",
       "      <td>1</td>\n",
       "      <td>10.99</td>\n",
       "      <td>52.8</td>\n",
       "      <td>57.0</td>\n",
       "      <td>58.2</td>\n",
       "      <td>-16.13636</td>\n",
       "      <td>8.515579</td>\n",
       "      <td>20.414966</td>\n",
       "    </tr>\n",
       "    <tr>\n",
       "      <th>3</th>\n",
       "      <td>6</td>\n",
       "      <td>1</td>\n",
       "      <td>11.41</td>\n",
       "      <td>52.2</td>\n",
       "      <td>54.5</td>\n",
       "      <td>54.9</td>\n",
       "      <td>-16.13636</td>\n",
       "      <td>8.515579</td>\n",
       "      <td>20.414966</td>\n",
       "    </tr>\n",
       "    <tr>\n",
       "      <th>4</th>\n",
       "      <td>6</td>\n",
       "      <td>1</td>\n",
       "      <td>11.31</td>\n",
       "      <td>49.7</td>\n",
       "      <td>50.0</td>\n",
       "      <td>58.1</td>\n",
       "      <td>-16.13636</td>\n",
       "      <td>8.515579</td>\n",
       "      <td>20.414966</td>\n",
       "    </tr>\n",
       "  </tbody>\n",
       "</table>\n",
       "</div>"
      ],
      "text/plain": [
       "   location  gender  MinimalRadius  VelocityAtMinRadius  VelocityAtTurnEntry  \\\n",
       "0         6       1          10.63                 53.6                 55.7   \n",
       "1         6       1          11.05                 52.3                 57.7   \n",
       "2         6       1          10.99                 52.8                 57.0   \n",
       "3         6       1          11.41                 52.2                 54.5   \n",
       "4         6       1          11.31                 49.7                 50.0   \n",
       "\n",
       "   VelocityAtTurnExit  STEEPNESS  HORIZONTALGATEDISTANCE  VERTICALGATEDISTANCE  \n",
       "0                55.2  -16.13636                8.515579             20.414966  \n",
       "1                55.6  -16.13636                8.515579             20.414966  \n",
       "2                58.2  -16.13636                8.515579             20.414966  \n",
       "3                54.9  -16.13636                8.515579             20.414966  \n",
       "4                58.1  -16.13636                8.515579             20.414966  "
      ]
     },
     "execution_count": 499,
     "metadata": {},
     "output_type": "execute_result"
    }
   ],
   "source": [
    "x.head()"
   ]
  },
  {
   "cell_type": "code",
   "execution_count": 500,
   "metadata": {},
   "outputs": [
    {
     "data": {
      "text/html": [
       "<div>\n",
       "<style scoped>\n",
       "    .dataframe tbody tr th:only-of-type {\n",
       "        vertical-align: middle;\n",
       "    }\n",
       "\n",
       "    .dataframe tbody tr th {\n",
       "        vertical-align: top;\n",
       "    }\n",
       "\n",
       "    .dataframe thead th {\n",
       "        text-align: right;\n",
       "    }\n",
       "</style>\n",
       "<table border=\"1\" class=\"dataframe\">\n",
       "  <thead>\n",
       "    <tr style=\"text-align: right;\">\n",
       "      <th></th>\n",
       "      <th>TimeStarttoEnd_2</th>\n",
       "    </tr>\n",
       "  </thead>\n",
       "  <tbody>\n",
       "    <tr>\n",
       "      <th>0</th>\n",
       "      <td>1.52</td>\n",
       "    </tr>\n",
       "    <tr>\n",
       "      <th>1</th>\n",
       "      <td>1.56</td>\n",
       "    </tr>\n",
       "    <tr>\n",
       "      <th>2</th>\n",
       "      <td>1.56</td>\n",
       "    </tr>\n",
       "    <tr>\n",
       "      <th>3</th>\n",
       "      <td>1.76</td>\n",
       "    </tr>\n",
       "    <tr>\n",
       "      <th>4</th>\n",
       "      <td>2.08</td>\n",
       "    </tr>\n",
       "  </tbody>\n",
       "</table>\n",
       "</div>"
      ],
      "text/plain": [
       "   TimeStarttoEnd_2\n",
       "0              1.52\n",
       "1              1.56\n",
       "2              1.56\n",
       "3              1.76\n",
       "4              2.08"
      ]
     },
     "execution_count": 500,
     "metadata": {},
     "output_type": "execute_result"
    }
   ],
   "source": [
    "y.head()"
   ]
  },
  {
   "cell_type": "code",
   "execution_count": 501,
   "metadata": {},
   "outputs": [],
   "source": [
    "# normalize the values\n",
    "#normalized_x=(x-x.mean())/x.std()\n",
    "#normalized_y=(y-y.mean())/y.std()"
   ]
  },
  {
   "cell_type": "code",
   "execution_count": 502,
   "metadata": {},
   "outputs": [],
   "source": [
    "#normalized_x.head()"
   ]
  },
  {
   "cell_type": "code",
   "execution_count": 503,
   "metadata": {},
   "outputs": [],
   "source": [
    "#normalized_y.head()"
   ]
  },
  {
   "cell_type": "code",
   "execution_count": 504,
   "metadata": {},
   "outputs": [],
   "source": [
    "RANDOM_STATE=89389"
   ]
  },
  {
   "cell_type": "code",
   "execution_count": 505,
   "metadata": {},
   "outputs": [],
   "source": [
    "X_train, X_test, y_train, y_test = train_test_split(x, y, test_size=0.25, random_state=RANDOM_STATE)"
   ]
  },
  {
   "cell_type": "code",
   "execution_count": 506,
   "metadata": {},
   "outputs": [
    {
     "name": "stdout",
     "output_type": "stream",
     "text": [
      "(5017, 9)\n",
      "(5017, 1)\n"
     ]
    }
   ],
   "source": [
    "print(X_train.shape)\n",
    "print(y_train.shape)"
   ]
  },
  {
   "cell_type": "code",
   "execution_count": 507,
   "metadata": {},
   "outputs": [
    {
     "name": "stdout",
     "output_type": "stream",
     "text": [
      "(1673, 9)\n",
      "(1673, 1)\n"
     ]
    }
   ],
   "source": [
    "print(X_test.shape)\n",
    "print(y_test.shape)"
   ]
  },
  {
   "cell_type": "code",
   "execution_count": 508,
   "metadata": {},
   "outputs": [],
   "source": [
    "from sklearn.linear_model import LinearRegression"
   ]
  },
  {
   "cell_type": "code",
   "execution_count": 509,
   "metadata": {},
   "outputs": [],
   "source": [
    "model = MultiOutputRegressor(LinearRegression()).fit(X_train, y_train)"
   ]
  },
  {
   "cell_type": "code",
   "execution_count": 510,
   "metadata": {},
   "outputs": [
    {
     "data": {
      "text/plain": [
       "0.5207225247871385"
      ]
     },
     "execution_count": 510,
     "metadata": {},
     "output_type": "execute_result"
    }
   ],
   "source": [
    "model.score(X_test, y_test)"
   ]
  },
  {
   "cell_type": "code",
   "execution_count": 511,
   "metadata": {},
   "outputs": [
    {
     "data": {
      "text/plain": [
       "array([[1.64935181],\n",
       "       [1.60982103],\n",
       "       [1.91569374],\n",
       "       ...,\n",
       "       [1.71459025],\n",
       "       [1.18947364],\n",
       "       [1.93230256]])"
      ]
     },
     "execution_count": 511,
     "metadata": {},
     "output_type": "execute_result"
    }
   ],
   "source": [
    "model.predict(X_test)"
   ]
  },
  {
   "cell_type": "code",
   "execution_count": 512,
   "metadata": {},
   "outputs": [],
   "source": [
    "# new values for prediction\n",
    "pred_location = 1\n",
    "pred_gender = 1\n",
    "pred_MinimalRadius = 10\n",
    "pred_VelocityAtMinRadius = 100\n",
    "pred_VelocityAtTurnEntry = 55\n",
    "pred_VelocityAtTurnExit = 54\n",
    "pred_HORIZONTALGATEDISTANCE = 9.5\n",
    "pred_VERTICALGATEDISTANCE = 40\n",
    "pred_STEEPNESS = -18"
   ]
  },
  {
   "cell_type": "code",
   "execution_count": 513,
   "metadata": {},
   "outputs": [
    {
     "data": {
      "text/plain": [
       "array([[3.26219211]])"
      ]
     },
     "execution_count": 513,
     "metadata": {},
     "output_type": "execute_result"
    }
   ],
   "source": [
    "model.predict([[pred_location, pred_gender,pred_MinimalRadius,pred_VelocityAtMinRadius,\n",
    "                pred_VelocityAtTurnEntry,pred_VelocityAtTurnExit,pred_HORIZONTALGATEDISTANCE,\n",
    "                pred_VERTICALGATEDISTANCE, pred_STEEPNESS]])"
   ]
  },
  {
   "cell_type": "code",
   "execution_count": null,
   "metadata": {},
   "outputs": [],
   "source": []
  },
  {
   "cell_type": "code",
   "execution_count": null,
   "metadata": {},
   "outputs": [],
   "source": []
  }
 ],
 "metadata": {
  "kernelspec": {
   "display_name": "Python 3",
   "language": "python",
   "name": "python3"
  },
  "language_info": {
   "codemirror_mode": {
    "name": "ipython",
    "version": 3
   },
   "file_extension": ".py",
   "mimetype": "text/x-python",
   "name": "python",
   "nbconvert_exporter": "python",
   "pygments_lexer": "ipython3",
   "version": "3.8.5"
  }
 },
 "nbformat": 4,
 "nbformat_minor": 4
}
