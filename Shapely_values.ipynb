{
 "cells": [
  {
   "cell_type": "markdown",
   "id": "eb1ae0d8",
   "metadata": {
    "toc": true
   },
   "source": [
    "<h1>Table of Contents<span class=\"tocSkip\"></span></h1>\n",
    "<div class=\"toc\"><ul class=\"toc-item\"></ul></div>"
   ]
  },
  {
   "cell_type": "code",
   "execution_count": 1,
   "id": "620b4199",
   "metadata": {},
   "outputs": [],
   "source": [
    "import seaborn as sns\n",
    "import pandas as pd\n",
    "import numpy as np\n",
    "import matplotlib.pyplot as plt\n",
    "from sklearn.model_selection import train_test_split\n",
    "from sklearn.pipeline import Pipeline\n",
    "from sklearn.ensemble import RandomForestRegressor, BaggingRegressor\n",
    "from sklearn.tree import DecisionTreeRegressor\n",
    "from sklearn.preprocessing import StandardScaler"
   ]
  },
  {
   "cell_type": "code",
   "execution_count": 2,
   "id": "9da005dc",
   "metadata": {},
   "outputs": [
    {
     "data": {
      "text/html": [
       "<div>\n",
       "<style scoped>\n",
       "    .dataframe tbody tr th:only-of-type {\n",
       "        vertical-align: middle;\n",
       "    }\n",
       "\n",
       "    .dataframe tbody tr th {\n",
       "        vertical-align: top;\n",
       "    }\n",
       "\n",
       "    .dataframe thead th {\n",
       "        text-align: right;\n",
       "    }\n",
       "</style>\n",
       "<table border=\"1\" class=\"dataframe\">\n",
       "  <thead>\n",
       "    <tr style=\"text-align: right;\">\n",
       "      <th></th>\n",
       "      <th>Unnamed: 0</th>\n",
       "      <th>V1</th>\n",
       "      <th>athlete</th>\n",
       "      <th>gender</th>\n",
       "      <th>run</th>\n",
       "      <th>location</th>\n",
       "      <th>date</th>\n",
       "      <th>TurnNr</th>\n",
       "      <th>MinimalRadius</th>\n",
       "      <th>VelocityAtMinRadius</th>\n",
       "      <th>...</th>\n",
       "      <th>azitonextnext</th>\n",
       "      <th>HORIZONTALGATEDISTANCE</th>\n",
       "      <th>VERTICALGATEDISTANCE</th>\n",
       "      <th>regularbs1orfs2</th>\n",
       "      <th>steepness_A</th>\n",
       "      <th>filter_$</th>\n",
       "      <th>goofy2_regular1</th>\n",
       "      <th>@2Ferse_3Zehe_4Ferse</th>\n",
       "      <th>Zehen1_Fersen2</th>\n",
       "      <th>DistanzSchätz</th>\n",
       "    </tr>\n",
       "  </thead>\n",
       "  <tbody>\n",
       "    <tr>\n",
       "      <th>0</th>\n",
       "      <td>0</td>\n",
       "      <td>35</td>\n",
       "      <td>3</td>\n",
       "      <td>1</td>\n",
       "      <td>1</td>\n",
       "      <td>Zermatt</td>\n",
       "      <td>200915</td>\n",
       "      <td>2</td>\n",
       "      <td>10.63</td>\n",
       "      <td>53.6</td>\n",
       "      <td>...</td>\n",
       "      <td>341.45477</td>\n",
       "      <td>8.515579</td>\n",
       "      <td>20.414966</td>\n",
       "      <td>1</td>\n",
       "      <td>2</td>\n",
       "      <td>0</td>\n",
       "      <td>1</td>\n",
       "      <td>2</td>\n",
       "      <td>2</td>\n",
       "      <td>30.635388</td>\n",
       "    </tr>\n",
       "    <tr>\n",
       "      <th>1</th>\n",
       "      <td>1</td>\n",
       "      <td>36</td>\n",
       "      <td>3</td>\n",
       "      <td>1</td>\n",
       "      <td>2</td>\n",
       "      <td>Zermatt</td>\n",
       "      <td>200915</td>\n",
       "      <td>2</td>\n",
       "      <td>11.05</td>\n",
       "      <td>52.3</td>\n",
       "      <td>...</td>\n",
       "      <td>341.45477</td>\n",
       "      <td>8.515579</td>\n",
       "      <td>20.414966</td>\n",
       "      <td>1</td>\n",
       "      <td>2</td>\n",
       "      <td>0</td>\n",
       "      <td>1</td>\n",
       "      <td>2</td>\n",
       "      <td>2</td>\n",
       "      <td>30.635388</td>\n",
       "    </tr>\n",
       "    <tr>\n",
       "      <th>2</th>\n",
       "      <td>2</td>\n",
       "      <td>37</td>\n",
       "      <td>3</td>\n",
       "      <td>1</td>\n",
       "      <td>3</td>\n",
       "      <td>Zermatt</td>\n",
       "      <td>200915</td>\n",
       "      <td>2</td>\n",
       "      <td>10.99</td>\n",
       "      <td>52.8</td>\n",
       "      <td>...</td>\n",
       "      <td>341.45477</td>\n",
       "      <td>8.515579</td>\n",
       "      <td>20.414966</td>\n",
       "      <td>1</td>\n",
       "      <td>2</td>\n",
       "      <td>0</td>\n",
       "      <td>1</td>\n",
       "      <td>2</td>\n",
       "      <td>2</td>\n",
       "      <td>30.635388</td>\n",
       "    </tr>\n",
       "    <tr>\n",
       "      <th>3</th>\n",
       "      <td>3</td>\n",
       "      <td>38</td>\n",
       "      <td>3</td>\n",
       "      <td>1</td>\n",
       "      <td>4</td>\n",
       "      <td>Zermatt</td>\n",
       "      <td>200915</td>\n",
       "      <td>2</td>\n",
       "      <td>11.41</td>\n",
       "      <td>52.2</td>\n",
       "      <td>...</td>\n",
       "      <td>341.45477</td>\n",
       "      <td>8.515579</td>\n",
       "      <td>20.414966</td>\n",
       "      <td>1</td>\n",
       "      <td>2</td>\n",
       "      <td>0</td>\n",
       "      <td>1</td>\n",
       "      <td>2</td>\n",
       "      <td>2</td>\n",
       "      <td>30.635388</td>\n",
       "    </tr>\n",
       "    <tr>\n",
       "      <th>4</th>\n",
       "      <td>4</td>\n",
       "      <td>39</td>\n",
       "      <td>5</td>\n",
       "      <td>1</td>\n",
       "      <td>1</td>\n",
       "      <td>Zermatt</td>\n",
       "      <td>200915</td>\n",
       "      <td>2</td>\n",
       "      <td>11.31</td>\n",
       "      <td>49.7</td>\n",
       "      <td>...</td>\n",
       "      <td>341.45477</td>\n",
       "      <td>8.515579</td>\n",
       "      <td>20.414966</td>\n",
       "      <td>1</td>\n",
       "      <td>2</td>\n",
       "      <td>0</td>\n",
       "      <td>2</td>\n",
       "      <td>3</td>\n",
       "      <td>1</td>\n",
       "      <td>30.635388</td>\n",
       "    </tr>\n",
       "  </tbody>\n",
       "</table>\n",
       "<p>5 rows × 51 columns</p>\n",
       "</div>"
      ],
      "text/plain": [
       "   Unnamed: 0  V1  athlete  gender  run location    date  TurnNr  \\\n",
       "0           0  35        3       1    1  Zermatt  200915       2   \n",
       "1           1  36        3       1    2  Zermatt  200915       2   \n",
       "2           2  37        3       1    3  Zermatt  200915       2   \n",
       "3           3  38        3       1    4  Zermatt  200915       2   \n",
       "4           4  39        5       1    1  Zermatt  200915       2   \n",
       "\n",
       "   MinimalRadius  VelocityAtMinRadius  ...  azitonextnext  \\\n",
       "0          10.63                 53.6  ...      341.45477   \n",
       "1          11.05                 52.3  ...      341.45477   \n",
       "2          10.99                 52.8  ...      341.45477   \n",
       "3          11.41                 52.2  ...      341.45477   \n",
       "4          11.31                 49.7  ...      341.45477   \n",
       "\n",
       "   HORIZONTALGATEDISTANCE  VERTICALGATEDISTANCE  regularbs1orfs2  steepness_A  \\\n",
       "0                8.515579             20.414966                1            2   \n",
       "1                8.515579             20.414966                1            2   \n",
       "2                8.515579             20.414966                1            2   \n",
       "3                8.515579             20.414966                1            2   \n",
       "4                8.515579             20.414966                1            2   \n",
       "\n",
       "   filter_$  goofy2_regular1  @2Ferse_3Zehe_4Ferse  Zehen1_Fersen2  \\\n",
       "0         0                1                     2               2   \n",
       "1         0                1                     2               2   \n",
       "2         0                1                     2               2   \n",
       "3         0                1                     2               2   \n",
       "4         0                2                     3               1   \n",
       "\n",
       "   DistanzSchätz  \n",
       "0      30.635388  \n",
       "1      30.635388  \n",
       "2      30.635388  \n",
       "3      30.635388  \n",
       "4      30.635388  \n",
       "\n",
       "[5 rows x 51 columns]"
      ]
     },
     "execution_count": 2,
     "metadata": {},
     "output_type": "execute_result"
    }
   ],
   "source": [
    "df = pd.read_csv(r\"Data/bereinigte_DATEN_ano_csv.csv\")\n",
    "df.head()"
   ]
  },
  {
   "cell_type": "code",
   "execution_count": 3,
   "id": "3a494547",
   "metadata": {},
   "outputs": [],
   "source": [
    "df_clean = df.drop([\"Unnamed: 0\", \"date\", \"location\", \"Unnamed0\", \"vectortonext\",\n",
    "                    \"vector2Dtonext\", \"vectortonextnorm\", \"vector2Dtonextnorm\",\n",
    "                    \"projpttonext\", \"vectortonextnext\", \"vector2Dtonextnext\",\n",
    "                    \"vectortonextnextnorm\", \"vector2Dtonextnextnorm\",'filter_$', 'goofy2_regular1',\n",
    "       '@2Ferse_3Zehe_4Ferse', 'Zehen1_Fersen2', 'DistanzSchätz'], axis=1)"
   ]
  },
  {
   "cell_type": "code",
   "execution_count": 4,
   "id": "0166253c",
   "metadata": {},
   "outputs": [
    {
     "data": {
      "text/plain": [
       "Index(['V1', 'athlete', 'gender', 'run', 'TurnNr', 'MinimalRadius',\n",
       "       'VelocityAtMinRadius', 'VelocityAtTurnEntry', 'VelocityAtTurnExit',\n",
       "       'TimeStarttoEnd', 'TimeStartToMinRad', 'TimeMinRadToEnd',\n",
       "       'GlideTime_endtostart', 'TimeStarttoEnd_2', 'Initiation', 'Completion',\n",
       "       'Gliding', 'GATEDISTANCE', 'dist2Dtonext', 'STEEPNESS', 'azitonext',\n",
       "       'slopechangetonext', 'angletonext', 'projtonext', 'offsettonext',\n",
       "       'dist3Dtonextnext', 'dts2Dtonextnext', 'slopetonextnext',\n",
       "       'azitonextnext', 'HORIZONTALGATEDISTANCE', 'VERTICALGATEDISTANCE',\n",
       "       'regularbs1orfs2', 'steepness_A'],\n",
       "      dtype='object')"
      ]
     },
     "execution_count": 4,
     "metadata": {},
     "output_type": "execute_result"
    }
   ],
   "source": [
    "df_clean.columns"
   ]
  },
  {
   "cell_type": "code",
   "execution_count": 5,
   "id": "f872e073",
   "metadata": {},
   "outputs": [],
   "source": [
    "X = df_clean.drop(['athlete', 'gender', 'run', 'TurnNr','TimeStarttoEnd', 'TimeStarttoEnd_2',\n",
    "                  'TimeStartToMinRad', 'TimeMinRadToEnd', 'GlideTime_endtostart','Initiation', 'Completion',\n",
    "       'Gliding', 'regularbs1orfs2'], axis = 1)\n",
    "Y = df_clean['TimeStarttoEnd']\n",
    "X_featurenames = X.columns"
   ]
  },
  {
   "cell_type": "code",
   "execution_count": 6,
   "id": "2d2a35c6",
   "metadata": {},
   "outputs": [],
   "source": [
    "X_train, X_test, Y_train, Y_test = train_test_split(X, Y, test_size = 0.2, random_state = 1313)"
   ]
  },
  {
   "cell_type": "code",
   "execution_count": 7,
   "id": "9ca30496",
   "metadata": {},
   "outputs": [],
   "source": [
    "scaler = StandardScaler()\n",
    "model = RandomForestRegressor( random_state = 0, n_estimators = 10000, verbose = 1, max_depth=20,\n",
    "                              n_jobs = -1)\n",
    "X_train = scaler.fit_transform(X_train)\n",
    "X_test = scaler.fit_transform(X_test)"
   ]
  },
  {
   "cell_type": "code",
   "execution_count": null,
   "id": "f0c2403b",
   "metadata": {
    "pycharm": {
     "is_executing": true
    }
   },
   "outputs": [
    {
     "name": "stderr",
     "output_type": "stream",
     "text": [
      "[Parallel(n_jobs=-1)]: Using backend ThreadingBackend with 12 concurrent workers.\n",
      "[Parallel(n_jobs=-1)]: Done  26 tasks      | elapsed:    0.1s\n",
      "[Parallel(n_jobs=-1)]: Done 176 tasks      | elapsed:    1.0s\n",
      "[Parallel(n_jobs=-1)]: Done 426 tasks      | elapsed:    2.4s\n",
      "[Parallel(n_jobs=-1)]: Done 776 tasks      | elapsed:    4.4s\n",
      "[Parallel(n_jobs=-1)]: Done 1226 tasks      | elapsed:    6.9s\n",
      "[Parallel(n_jobs=-1)]: Done 1776 tasks      | elapsed:   10.1s\n",
      "[Parallel(n_jobs=-1)]: Done 2426 tasks      | elapsed:   14.1s\n",
      "[Parallel(n_jobs=-1)]: Done 3176 tasks      | elapsed:   19.0s\n",
      "[Parallel(n_jobs=-1)]: Done 4026 tasks      | elapsed:   24.9s\n",
      "[Parallel(n_jobs=-1)]: Done 4976 tasks      | elapsed:   31.6s\n",
      "[Parallel(n_jobs=-1)]: Done 6026 tasks      | elapsed:   39.4s\n",
      "[Parallel(n_jobs=-1)]: Done 7176 tasks      | elapsed:   48.4s\n"
     ]
    }
   ],
   "source": [
    "model.fit(X_train, Y_train)"
   ]
  },
  {
   "cell_type": "code",
   "execution_count": null,
   "id": "88c1dc5a",
   "metadata": {
    "pycharm": {
     "is_executing": true
    }
   },
   "outputs": [],
   "source": [
    "feat_importances = pd.Series(model.feature_importances_, index = X_featurenames)\n",
    "feat_importances.nlargest(5).plot(kind = 'barh')"
   ]
  },
  {
   "cell_type": "code",
   "execution_count": null,
   "id": "3a5398ae",
   "metadata": {
    "pycharm": {
     "is_executing": true
    }
   },
   "outputs": [],
   "source": [
    "import shap"
   ]
  },
  {
   "cell_type": "code",
   "execution_count": null,
   "id": "da4c44b5",
   "metadata": {
    "pycharm": {
     "is_executing": true
    }
   },
   "outputs": [],
   "source": [
    "ex = shap.TreeExplainer(model)\n",
    "shap_values = ex.shap_values(X_test, approximate=True)\n",
    "shap.summary_plot(shap_values, X_test, feature_names=X_featurenames, show=False)\n",
    "plt.savefig(\"shapely_valus.png\", dpi = 1200)\n",
    "plt.show()"
   ]
  },
  {
   "cell_type": "code",
   "execution_count": null,
   "id": "d5e0dc0d-2531-4d09-aaf9-0086a659aeb1",
   "metadata": {
    "pycharm": {
     "is_executing": true
    }
   },
   "outputs": [],
   "source": []
  }
 ],
 "metadata": {
  "kernelspec": {
   "display_name": "Python 3 (ipykernel)",
   "language": "python",
   "name": "python3"
  },
  "language_info": {
   "codemirror_mode": {
    "name": "ipython",
    "version": 3
   },
   "file_extension": ".py",
   "mimetype": "text/x-python",
   "name": "python",
   "nbconvert_exporter": "python",
   "pygments_lexer": "ipython3",
   "version": "3.7.10"
  },
  "toc": {
   "base_numbering": 1,
   "nav_menu": {},
   "number_sections": true,
   "sideBar": true,
   "skip_h1_title": true,
   "title_cell": "Table of Contents",
   "title_sidebar": "Contents",
   "toc_cell": true,
   "toc_position": {},
   "toc_section_display": true,
   "toc_window_display": false
  }
 },
 "nbformat": 4,
 "nbformat_minor": 5
}