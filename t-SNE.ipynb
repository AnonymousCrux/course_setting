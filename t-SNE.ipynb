{
 "cells": [
  {
   "cell_type": "code",
   "execution_count": 18,
   "metadata": {},
   "outputs": [],
   "source": [
    "from sklearn.manifold import TSNE\n",
    "import numpy as np\n",
    "from matplotlib import pyplot as plt\n",
    "from sklearn.datasets import fetch_openml\n",
    "import numpy as np\n",
    "import matplotlib.pyplot as plt\n",
    "import pandas as pd\n",
    "import seaborn as sns"
   ]
  },
  {
   "cell_type": "code",
   "execution_count": 8,
   "metadata": {},
   "outputs": [],
   "source": [
    "df = pd.read_excel(\"Data/bereinigte_DATEN_ano.xlsx\")"
   ]
  },
  {
   "cell_type": "code",
   "execution_count": 9,
   "metadata": {},
   "outputs": [
    {
     "data": {
      "text/html": [
       "<div>\n",
       "<style scoped>\n",
       "    .dataframe tbody tr th:only-of-type {\n",
       "        vertical-align: middle;\n",
       "    }\n",
       "\n",
       "    .dataframe tbody tr th {\n",
       "        vertical-align: top;\n",
       "    }\n",
       "\n",
       "    .dataframe thead th {\n",
       "        text-align: right;\n",
       "    }\n",
       "</style>\n",
       "<table border=\"1\" class=\"dataframe\">\n",
       "  <thead>\n",
       "    <tr style=\"text-align: right;\">\n",
       "      <th></th>\n",
       "      <th>Unnamed: 0</th>\n",
       "      <th>V1</th>\n",
       "      <th>athlete</th>\n",
       "      <th>gender</th>\n",
       "      <th>run</th>\n",
       "      <th>location</th>\n",
       "      <th>date</th>\n",
       "      <th>TurnNr</th>\n",
       "      <th>MinimalRadius</th>\n",
       "      <th>VelocityAtMinRadius</th>\n",
       "      <th>...</th>\n",
       "      <th>azitonextnext</th>\n",
       "      <th>HORIZONTALGATEDISTANCE</th>\n",
       "      <th>VERTICALGATEDISTANCE</th>\n",
       "      <th>regularbs1orfs2</th>\n",
       "      <th>steepness_A</th>\n",
       "      <th>filter_$</th>\n",
       "      <th>goofy2_regular1</th>\n",
       "      <th>@2Ferse_3Zehe_4Ferse</th>\n",
       "      <th>Zehen1_Fersen2</th>\n",
       "      <th>DistanzSchätz</th>\n",
       "    </tr>\n",
       "  </thead>\n",
       "  <tbody>\n",
       "    <tr>\n",
       "      <th>0</th>\n",
       "      <td>0</td>\n",
       "      <td>35</td>\n",
       "      <td>3</td>\n",
       "      <td>1</td>\n",
       "      <td>1</td>\n",
       "      <td>Zermatt</td>\n",
       "      <td>200915</td>\n",
       "      <td>2</td>\n",
       "      <td>10.63</td>\n",
       "      <td>53.6</td>\n",
       "      <td>...</td>\n",
       "      <td>341.45477</td>\n",
       "      <td>8.515579</td>\n",
       "      <td>20.414966</td>\n",
       "      <td>1</td>\n",
       "      <td>2</td>\n",
       "      <td>0</td>\n",
       "      <td>1</td>\n",
       "      <td>2</td>\n",
       "      <td>2</td>\n",
       "      <td>30.635388</td>\n",
       "    </tr>\n",
       "    <tr>\n",
       "      <th>1</th>\n",
       "      <td>1</td>\n",
       "      <td>36</td>\n",
       "      <td>3</td>\n",
       "      <td>1</td>\n",
       "      <td>2</td>\n",
       "      <td>Zermatt</td>\n",
       "      <td>200915</td>\n",
       "      <td>2</td>\n",
       "      <td>11.05</td>\n",
       "      <td>52.3</td>\n",
       "      <td>...</td>\n",
       "      <td>341.45477</td>\n",
       "      <td>8.515579</td>\n",
       "      <td>20.414966</td>\n",
       "      <td>1</td>\n",
       "      <td>2</td>\n",
       "      <td>0</td>\n",
       "      <td>1</td>\n",
       "      <td>2</td>\n",
       "      <td>2</td>\n",
       "      <td>30.635388</td>\n",
       "    </tr>\n",
       "    <tr>\n",
       "      <th>2</th>\n",
       "      <td>2</td>\n",
       "      <td>37</td>\n",
       "      <td>3</td>\n",
       "      <td>1</td>\n",
       "      <td>3</td>\n",
       "      <td>Zermatt</td>\n",
       "      <td>200915</td>\n",
       "      <td>2</td>\n",
       "      <td>10.99</td>\n",
       "      <td>52.8</td>\n",
       "      <td>...</td>\n",
       "      <td>341.45477</td>\n",
       "      <td>8.515579</td>\n",
       "      <td>20.414966</td>\n",
       "      <td>1</td>\n",
       "      <td>2</td>\n",
       "      <td>0</td>\n",
       "      <td>1</td>\n",
       "      <td>2</td>\n",
       "      <td>2</td>\n",
       "      <td>30.635388</td>\n",
       "    </tr>\n",
       "    <tr>\n",
       "      <th>3</th>\n",
       "      <td>3</td>\n",
       "      <td>38</td>\n",
       "      <td>3</td>\n",
       "      <td>1</td>\n",
       "      <td>4</td>\n",
       "      <td>Zermatt</td>\n",
       "      <td>200915</td>\n",
       "      <td>2</td>\n",
       "      <td>11.41</td>\n",
       "      <td>52.2</td>\n",
       "      <td>...</td>\n",
       "      <td>341.45477</td>\n",
       "      <td>8.515579</td>\n",
       "      <td>20.414966</td>\n",
       "      <td>1</td>\n",
       "      <td>2</td>\n",
       "      <td>0</td>\n",
       "      <td>1</td>\n",
       "      <td>2</td>\n",
       "      <td>2</td>\n",
       "      <td>30.635388</td>\n",
       "    </tr>\n",
       "    <tr>\n",
       "      <th>4</th>\n",
       "      <td>4</td>\n",
       "      <td>39</td>\n",
       "      <td>5</td>\n",
       "      <td>1</td>\n",
       "      <td>1</td>\n",
       "      <td>Zermatt</td>\n",
       "      <td>200915</td>\n",
       "      <td>2</td>\n",
       "      <td>11.31</td>\n",
       "      <td>49.7</td>\n",
       "      <td>...</td>\n",
       "      <td>341.45477</td>\n",
       "      <td>8.515579</td>\n",
       "      <td>20.414966</td>\n",
       "      <td>1</td>\n",
       "      <td>2</td>\n",
       "      <td>0</td>\n",
       "      <td>2</td>\n",
       "      <td>3</td>\n",
       "      <td>1</td>\n",
       "      <td>30.635388</td>\n",
       "    </tr>\n",
       "  </tbody>\n",
       "</table>\n",
       "<p>5 rows × 51 columns</p>\n",
       "</div>"
      ],
      "text/plain": [
       "   Unnamed: 0  V1  athlete  gender  run location    date  TurnNr  \\\n",
       "0           0  35        3       1    1  Zermatt  200915       2   \n",
       "1           1  36        3       1    2  Zermatt  200915       2   \n",
       "2           2  37        3       1    3  Zermatt  200915       2   \n",
       "3           3  38        3       1    4  Zermatt  200915       2   \n",
       "4           4  39        5       1    1  Zermatt  200915       2   \n",
       "\n",
       "   MinimalRadius  VelocityAtMinRadius  ...  azitonextnext  \\\n",
       "0          10.63                 53.6  ...      341.45477   \n",
       "1          11.05                 52.3  ...      341.45477   \n",
       "2          10.99                 52.8  ...      341.45477   \n",
       "3          11.41                 52.2  ...      341.45477   \n",
       "4          11.31                 49.7  ...      341.45477   \n",
       "\n",
       "   HORIZONTALGATEDISTANCE  VERTICALGATEDISTANCE  regularbs1orfs2  steepness_A  \\\n",
       "0                8.515579             20.414966                1            2   \n",
       "1                8.515579             20.414966                1            2   \n",
       "2                8.515579             20.414966                1            2   \n",
       "3                8.515579             20.414966                1            2   \n",
       "4                8.515579             20.414966                1            2   \n",
       "\n",
       "   filter_$  goofy2_regular1  @2Ferse_3Zehe_4Ferse  Zehen1_Fersen2  \\\n",
       "0         0                1                     2               2   \n",
       "1         0                1                     2               2   \n",
       "2         0                1                     2               2   \n",
       "3         0                1                     2               2   \n",
       "4         0                2                     3               1   \n",
       "\n",
       "   DistanzSchätz  \n",
       "0      30.635388  \n",
       "1      30.635388  \n",
       "2      30.635388  \n",
       "3      30.635388  \n",
       "4      30.635388  \n",
       "\n",
       "[5 rows x 51 columns]"
      ]
     },
     "execution_count": 9,
     "metadata": {},
     "output_type": "execute_result"
    }
   ],
   "source": [
    "df.head()"
   ]
  },
  {
   "cell_type": "code",
   "execution_count": 10,
   "metadata": {},
   "outputs": [],
   "source": [
    "df = df.loc[df['location'] == 'Zermatt']"
   ]
  },
  {
   "cell_type": "code",
   "execution_count": 11,
   "metadata": {},
   "outputs": [],
   "source": [
    "df = df.drop([\"date\", \"location\", \"Unnamed0\", \"vectortonext\", \"vector2Dtonext\", \"vectortonextnorm\", \"vector2Dtonextnorm\", \"projpttonext\", \"vectortonextnext\", \"vector2Dtonextnext\", \"vectortonextnextnorm\", \"vector2Dtonextnextnorm\"], axis=1)"
   ]
  },
  {
   "cell_type": "code",
   "execution_count": 12,
   "metadata": {},
   "outputs": [
    {
     "data": {
      "text/plain": [
       "Index(['Unnamed: 0', 'V1', 'athlete', 'gender', 'run', 'TurnNr',\n",
       "       'MinimalRadius', 'VelocityAtMinRadius', 'VelocityAtTurnEntry',\n",
       "       'VelocityAtTurnExit', 'TimeStarttoEnd', 'TimeStartToMinRad',\n",
       "       'TimeMinRadToEnd', 'GlideTime_endtostart', 'TimeStarttoEnd_2',\n",
       "       'Initiation', 'Completion', 'Gliding', 'GATEDISTANCE', 'dist2Dtonext',\n",
       "       'STEEPNESS', 'azitonext', 'slopechangetonext', 'angletonext',\n",
       "       'projtonext', 'offsettonext', 'dist3Dtonextnext', 'dts2Dtonextnext',\n",
       "       'slopetonextnext', 'azitonextnext', 'HORIZONTALGATEDISTANCE',\n",
       "       'VERTICALGATEDISTANCE', 'regularbs1orfs2', 'steepness_A', 'filter_$',\n",
       "       'goofy2_regular1', '@2Ferse_3Zehe_4Ferse', 'Zehen1_Fersen2',\n",
       "       'DistanzSchätz'],\n",
       "      dtype='object')"
      ]
     },
     "execution_count": 12,
     "metadata": {},
     "output_type": "execute_result"
    }
   ],
   "source": [
    "df.columns"
   ]
  },
  {
   "cell_type": "code",
   "execution_count": 13,
   "metadata": {},
   "outputs": [],
   "source": [
    "features = df.columns[4:17]"
   ]
  },
  {
   "cell_type": "code",
   "execution_count": 14,
   "metadata": {},
   "outputs": [
    {
     "name": "stdout",
     "output_type": "stream",
     "text": [
      "Index(['run', 'TurnNr', 'MinimalRadius', 'VelocityAtMinRadius',\n",
      "       'VelocityAtTurnEntry', 'VelocityAtTurnExit', 'TimeStarttoEnd',\n",
      "       'TimeStartToMinRad', 'TimeMinRadToEnd', 'GlideTime_endtostart',\n",
      "       'TimeStarttoEnd_2', 'Initiation', 'Completion'],\n",
      "      dtype='object')\n"
     ]
    }
   ],
   "source": [
    "print(features)"
   ]
  },
  {
   "cell_type": "code",
   "execution_count": 20,
   "metadata": {},
   "outputs": [],
   "source": [
    "# distribute the dataset into two components X and Y\n",
    "x = df.iloc[:, 4:17]\n",
    "y = df.iloc[:, 2]"
   ]
  },
  {
   "cell_type": "code",
   "execution_count": 21,
   "metadata": {},
   "outputs": [
    {
     "data": {
      "text/plain": [
       "<matplotlib.legend.Legend at 0x7f8144aee100>"
      ]
     },
     "execution_count": 21,
     "metadata": {},
     "output_type": "execute_result"
    },
    {
     "data": {
      "image/png": "[encoded data removed]",
      "text/plain": [
       "<Figure size 432x288 with 1 Axes>"
      ]
     },
     "metadata": {
      "needs_background": "light"
     },
     "output_type": "display_data"
    }
   ],
   "source": [
    "# We want to get TSNE embedding with 2 dimensions\n",
    "n_components = 2\n",
    "tsne = TSNE(n_components)\n",
    "tsne_result = tsne.fit_transform(x)\n",
    "tsne_result.shape\n",
    "# (1000, 2)\n",
    "# Two dimensions for each of our images\n",
    " \n",
    "# Plot the result of our TSNE with the label color coded\n",
    "# A lot of the stuff here is about making the plot look pretty and not TSNE\n",
    "tsne_result_df = pd.DataFrame({'tsne_1': tsne_result[:,0], 'tsne_2': tsne_result[:,1], 'label': y})\n",
    "fig, ax = plt.subplots(1)\n",
    "sns.scatterplot(x='tsne_1', y='tsne_2', hue='label', data=tsne_result_df, ax=ax,s=120)\n",
    "lim = (tsne_result.min()-5, tsne_result.max()+5)\n",
    "ax.set_xlim(lim)\n",
    "ax.set_ylim(lim)\n",
    "ax.set_aspect('equal')\n",
    "ax.legend(bbox_to_anchor=(1.05, 1), loc=2, borderaxespad=0.0)"
   ]
  },
  {
   "cell_type": "code",
   "execution_count": null,
   "metadata": {},
   "outputs": [],
   "source": []
  }
 ],
 "metadata": {
  "kernelspec": {
   "display_name": "Python 3",
   "language": "python",
   "name": "python3"
  },
  "language_info": {
   "codemirror_mode": {
    "name": "ipython",
    "version": 3
   },
   "file_extension": ".py",
   "mimetype": "text/x-python",
   "name": "python",
   "nbconvert_exporter": "python",
   "pygments_lexer": "ipython3",
   "version": "3.8.5"
  }
 },
 "nbformat": 4,
 "nbformat_minor": 4
}
