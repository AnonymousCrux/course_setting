{
 "cells": [
  {
   "cell_type": "code",
   "execution_count": 10,
   "metadata": {},
   "outputs": [],
   "source": [
    "import os\n",
    "import re\n",
    "\n",
    "import pandas as pd\n",
    "\n",
    "path = \"Runs Computed\"\n",
    "\n",
    "files = os.listdir(path)\n",
    "filename_split_list = []\n",
    "for file in files:\n",
    "    if re.match('[0-9]{6}_[0-9]_.*\\\\.csv', file):\n",
    "        filename_split = file.split('.')[0].split('_')\n",
    "        filename_split_list.append(filename_split)\n",
    "\n",
    "df_filenames = pd.DataFrame(filename_split_list).rename({0: 'date', 1: 'athlete', 2: 'run'}, axis=1)\n",
    "\n",
    "possible_dates = df_filenames['date'].unique()\n",
    "possible_dates.sort()\n",
    "\n",
    "selected_date = '200908'\n",
    "\n",
    "possible_athletes = df_filenames[df_filenames['date'] == selected_date]['athlete'].unique()\n",
    "possible_athletes.sort()\n",
    "\n",
    "selected_athlete = '1'\n",
    "\n",
    "possible_runs = df_filenames[(df_filenames['date'] == selected_date) & (df_filenames['athlete'] == selected_athlete)]['run'].unique()\n",
    "\n",
    "possible_runs.sort()\n",
    "\n",
    "possible_runs\n",
    "\n",
    "selected_run = '1'"
   ]
  },
  {
   "cell_type": "code",
   "execution_count": 2,
   "metadata": {},
   "outputs": [],
   "source": []
  }
 ],
 "metadata": {
  "kernelspec": {
   "display_name": "Python 3 (ipykernel)",
   "language": "python",
   "name": "python3"
  },
  "language_info": {
   "codemirror_mode": {
    "name": "ipython",
    "version": 3
   },
   "file_extension": ".py",
   "mimetype": "text/x-python",
   "name": "python",
   "nbconvert_exporter": "python",
   "pygments_lexer": "ipython3",
   "version": "3.7.10"
  }
 },
 "nbformat": 4,
 "nbformat_minor": 4
}
