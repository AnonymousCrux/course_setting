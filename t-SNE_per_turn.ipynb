{
 "cells": [
  {
   "cell_type": "markdown",
   "metadata": {
    "toc": true
   },
   "source": [
    "<h1>Table of Contents<span class=\"tocSkip\"></span></h1>\n",
    "<div class=\"toc\"><ul class=\"toc-item\"></ul></div>"
   ]
  },
  {
   "cell_type": "code",
   "execution_count": 4,
   "metadata": {},
   "outputs": [],
   "source": [
    "from sklearn.manifold import TSNE\n",
    "import numpy as np\n",
    "from matplotlib import pyplot as plt\n",
    "from sklearn.datasets import fetch_openml\n",
    "import numpy as np\n",
    "import matplotlib.pyplot as plt\n",
    "import pandas as pd\n",
    "import seaborn as sns\n",
    "import json"
   ]
  },
  {
   "cell_type": "code",
   "execution_count": 74,
   "metadata": {},
   "outputs": [],
   "source": [
    "### Tom's file location\n",
    "#df = pd.read_csv(r\"D:\\HSLU_Projects\\course_setting\\Data\\bereinigte_DATEN_ano_csv.csv\")\n",
    "### Christoph's file location\n",
    "df = pd.read_excel(\"Data/bereinigte_DATEN_ano.xlsx\")"
   ]
  },
  {
   "cell_type": "code",
   "execution_count": 75,
   "metadata": {},
   "outputs": [
    {
     "data": {
      "text/html": [
       "<div>\n",
       "<style scoped>\n",
       "    .dataframe tbody tr th:only-of-type {\n",
       "        vertical-align: middle;\n",
       "    }\n",
       "\n",
       "    .dataframe tbody tr th {\n",
       "        vertical-align: top;\n",
       "    }\n",
       "\n",
       "    .dataframe thead th {\n",
       "        text-align: right;\n",
       "    }\n",
       "</style>\n",
       "<table border=\"1\" class=\"dataframe\">\n",
       "  <thead>\n",
       "    <tr style=\"text-align: right;\">\n",
       "      <th></th>\n",
       "      <th>Unnamed: 0</th>\n",
       "      <th>V1</th>\n",
       "      <th>athlete</th>\n",
       "      <th>gender</th>\n",
       "      <th>run</th>\n",
       "      <th>location</th>\n",
       "      <th>date</th>\n",
       "      <th>TurnNr</th>\n",
       "      <th>MinimalRadius</th>\n",
       "      <th>VelocityAtMinRadius</th>\n",
       "      <th>...</th>\n",
       "      <th>azitonextnext</th>\n",
       "      <th>HORIZONTALGATEDISTANCE</th>\n",
       "      <th>VERTICALGATEDISTANCE</th>\n",
       "      <th>regularbs1orfs2</th>\n",
       "      <th>steepness_A</th>\n",
       "      <th>filter_$</th>\n",
       "      <th>goofy2_regular1</th>\n",
       "      <th>@2Ferse_3Zehe_4Ferse</th>\n",
       "      <th>Zehen1_Fersen2</th>\n",
       "      <th>DistanzSchätz</th>\n",
       "    </tr>\n",
       "  </thead>\n",
       "  <tbody>\n",
       "    <tr>\n",
       "      <th>0</th>\n",
       "      <td>0</td>\n",
       "      <td>35</td>\n",
       "      <td>3</td>\n",
       "      <td>1</td>\n",
       "      <td>1</td>\n",
       "      <td>Zermatt</td>\n",
       "      <td>200915</td>\n",
       "      <td>2</td>\n",
       "      <td>10.63</td>\n",
       "      <td>53.6</td>\n",
       "      <td>...</td>\n",
       "      <td>341.45477</td>\n",
       "      <td>8.515579</td>\n",
       "      <td>20.414966</td>\n",
       "      <td>1</td>\n",
       "      <td>2</td>\n",
       "      <td>0</td>\n",
       "      <td>1</td>\n",
       "      <td>2</td>\n",
       "      <td>2</td>\n",
       "      <td>30.635388</td>\n",
       "    </tr>\n",
       "    <tr>\n",
       "      <th>1</th>\n",
       "      <td>1</td>\n",
       "      <td>36</td>\n",
       "      <td>3</td>\n",
       "      <td>1</td>\n",
       "      <td>2</td>\n",
       "      <td>Zermatt</td>\n",
       "      <td>200915</td>\n",
       "      <td>2</td>\n",
       "      <td>11.05</td>\n",
       "      <td>52.3</td>\n",
       "      <td>...</td>\n",
       "      <td>341.45477</td>\n",
       "      <td>8.515579</td>\n",
       "      <td>20.414966</td>\n",
       "      <td>1</td>\n",
       "      <td>2</td>\n",
       "      <td>0</td>\n",
       "      <td>1</td>\n",
       "      <td>2</td>\n",
       "      <td>2</td>\n",
       "      <td>30.635388</td>\n",
       "    </tr>\n",
       "    <tr>\n",
       "      <th>2</th>\n",
       "      <td>2</td>\n",
       "      <td>37</td>\n",
       "      <td>3</td>\n",
       "      <td>1</td>\n",
       "      <td>3</td>\n",
       "      <td>Zermatt</td>\n",
       "      <td>200915</td>\n",
       "      <td>2</td>\n",
       "      <td>10.99</td>\n",
       "      <td>52.8</td>\n",
       "      <td>...</td>\n",
       "      <td>341.45477</td>\n",
       "      <td>8.515579</td>\n",
       "      <td>20.414966</td>\n",
       "      <td>1</td>\n",
       "      <td>2</td>\n",
       "      <td>0</td>\n",
       "      <td>1</td>\n",
       "      <td>2</td>\n",
       "      <td>2</td>\n",
       "      <td>30.635388</td>\n",
       "    </tr>\n",
       "    <tr>\n",
       "      <th>3</th>\n",
       "      <td>3</td>\n",
       "      <td>38</td>\n",
       "      <td>3</td>\n",
       "      <td>1</td>\n",
       "      <td>4</td>\n",
       "      <td>Zermatt</td>\n",
       "      <td>200915</td>\n",
       "      <td>2</td>\n",
       "      <td>11.41</td>\n",
       "      <td>52.2</td>\n",
       "      <td>...</td>\n",
       "      <td>341.45477</td>\n",
       "      <td>8.515579</td>\n",
       "      <td>20.414966</td>\n",
       "      <td>1</td>\n",
       "      <td>2</td>\n",
       "      <td>0</td>\n",
       "      <td>1</td>\n",
       "      <td>2</td>\n",
       "      <td>2</td>\n",
       "      <td>30.635388</td>\n",
       "    </tr>\n",
       "    <tr>\n",
       "      <th>4</th>\n",
       "      <td>4</td>\n",
       "      <td>39</td>\n",
       "      <td>5</td>\n",
       "      <td>1</td>\n",
       "      <td>1</td>\n",
       "      <td>Zermatt</td>\n",
       "      <td>200915</td>\n",
       "      <td>2</td>\n",
       "      <td>11.31</td>\n",
       "      <td>49.7</td>\n",
       "      <td>...</td>\n",
       "      <td>341.45477</td>\n",
       "      <td>8.515579</td>\n",
       "      <td>20.414966</td>\n",
       "      <td>1</td>\n",
       "      <td>2</td>\n",
       "      <td>0</td>\n",
       "      <td>2</td>\n",
       "      <td>3</td>\n",
       "      <td>1</td>\n",
       "      <td>30.635388</td>\n",
       "    </tr>\n",
       "  </tbody>\n",
       "</table>\n",
       "<p>5 rows × 51 columns</p>\n",
       "</div>"
      ],
      "text/plain": [
       "   Unnamed: 0  V1  athlete  gender  run location    date  TurnNr  \\\n",
       "0           0  35        3       1    1  Zermatt  200915       2   \n",
       "1           1  36        3       1    2  Zermatt  200915       2   \n",
       "2           2  37        3       1    3  Zermatt  200915       2   \n",
       "3           3  38        3       1    4  Zermatt  200915       2   \n",
       "4           4  39        5       1    1  Zermatt  200915       2   \n",
       "\n",
       "   MinimalRadius  VelocityAtMinRadius  ...  azitonextnext  \\\n",
       "0          10.63                 53.6  ...      341.45477   \n",
       "1          11.05                 52.3  ...      341.45477   \n",
       "2          10.99                 52.8  ...      341.45477   \n",
       "3          11.41                 52.2  ...      341.45477   \n",
       "4          11.31                 49.7  ...      341.45477   \n",
       "\n",
       "   HORIZONTALGATEDISTANCE  VERTICALGATEDISTANCE  regularbs1orfs2  steepness_A  \\\n",
       "0                8.515579             20.414966                1            2   \n",
       "1                8.515579             20.414966                1            2   \n",
       "2                8.515579             20.414966                1            2   \n",
       "3                8.515579             20.414966                1            2   \n",
       "4                8.515579             20.414966                1            2   \n",
       "\n",
       "   filter_$  goofy2_regular1  @2Ferse_3Zehe_4Ferse  Zehen1_Fersen2  \\\n",
       "0         0                1                     2               2   \n",
       "1         0                1                     2               2   \n",
       "2         0                1                     2               2   \n",
       "3         0                1                     2               2   \n",
       "4         0                2                     3               1   \n",
       "\n",
       "   DistanzSchätz  \n",
       "0      30.635388  \n",
       "1      30.635388  \n",
       "2      30.635388  \n",
       "3      30.635388  \n",
       "4      30.635388  \n",
       "\n",
       "[5 rows x 51 columns]"
      ]
     },
     "execution_count": 75,
     "metadata": {},
     "output_type": "execute_result"
    }
   ],
   "source": [
    "df.head()"
   ]
  },
  {
   "cell_type": "code",
   "execution_count": 76,
   "metadata": {},
   "outputs": [],
   "source": [
    "locations_and_turns = df[['location', 'TurnNr']]\n",
    "turn_no = df['TurnNr'].unique()\n",
    "location_set = df['location'].unique()"
   ]
  },
  {
   "cell_type": "code",
   "execution_count": 78,
   "metadata": {},
   "outputs": [
    {
     "data": {
      "text/plain": [
       "24"
      ]
     },
     "execution_count": 78,
     "metadata": {},
     "output_type": "execute_result"
    }
   ],
   "source": [
    "max(df['TurnNr'])"
   ]
  },
  {
   "cell_type": "code",
   "execution_count": 72,
   "metadata": {},
   "outputs": [
    {
     "data": {
      "text/plain": [
       "array([16])"
      ]
     },
     "execution_count": 72,
     "metadata": {},
     "output_type": "execute_result"
    }
   ],
   "source": [
    "turn_no"
   ]
  },
  {
   "cell_type": "code",
   "execution_count": 60,
   "metadata": {},
   "outputs": [],
   "source": [
    "df = df.loc[df['location'] == 'Zermatt']\n",
    "df = df.loc[df['TurnNr'] == 16]"
   ]
  },
  {
   "cell_type": "code",
   "execution_count": 61,
   "metadata": {},
   "outputs": [],
   "source": [
    "df_clean = df.drop([\"date\", \"location\", \"Unnamed0\", \"vectortonext\", \"vector2Dtonext\", \"vectortonextnorm\", \"vector2Dtonextnorm\", \"projpttonext\", \"vectortonextnext\", \"vector2Dtonextnext\", \"vectortonextnextnorm\", \"vector2Dtonextnextnorm\"], axis=1)"
   ]
  },
  {
   "cell_type": "code",
   "execution_count": 62,
   "metadata": {},
   "outputs": [
    {
     "data": {
      "text/plain": [
       "Index(['Unnamed: 0', 'V1', 'athlete', 'gender', 'run', 'TurnNr',\n",
       "       'MinimalRadius', 'VelocityAtMinRadius', 'VelocityAtTurnEntry',\n",
       "       'VelocityAtTurnExit', 'TimeStarttoEnd', 'TimeStartToMinRad',\n",
       "       'TimeMinRadToEnd', 'GlideTime_endtostart', 'TimeStarttoEnd_2',\n",
       "       'Initiation', 'Completion', 'Gliding', 'GATEDISTANCE', 'dist2Dtonext',\n",
       "       'STEEPNESS', 'azitonext', 'slopechangetonext', 'angletonext',\n",
       "       'projtonext', 'offsettonext', 'dist3Dtonextnext', 'dts2Dtonextnext',\n",
       "       'slopetonextnext', 'azitonextnext', 'HORIZONTALGATEDISTANCE',\n",
       "       'VERTICALGATEDISTANCE', 'regularbs1orfs2', 'steepness_A', 'filter_$',\n",
       "       'goofy2_regular1', '@2Ferse_3Zehe_4Ferse', 'Zehen1_Fersen2',\n",
       "       'DistanzSchätz'],\n",
       "      dtype='object')"
      ]
     },
     "execution_count": 62,
     "metadata": {},
     "output_type": "execute_result"
    }
   ],
   "source": [
    "df_clean.columns"
   ]
  },
  {
   "cell_type": "code",
   "execution_count": 63,
   "metadata": {},
   "outputs": [],
   "source": [
    "features = df_clean.columns[4:17]"
   ]
  },
  {
   "cell_type": "code",
   "execution_count": 64,
   "metadata": {},
   "outputs": [
    {
     "name": "stdout",
     "output_type": "stream",
     "text": [
      "Index(['run', 'TurnNr', 'MinimalRadius', 'VelocityAtMinRadius',\n",
      "       'VelocityAtTurnEntry', 'VelocityAtTurnExit', 'TimeStarttoEnd',\n",
      "       'TimeStartToMinRad', 'TimeMinRadToEnd', 'GlideTime_endtostart',\n",
      "       'TimeStarttoEnd_2', 'Initiation', 'Completion'],\n",
      "      dtype='object')\n"
     ]
    }
   ],
   "source": [
    "print(features)"
   ]
  },
  {
   "cell_type": "code",
   "execution_count": 65,
   "metadata": {},
   "outputs": [],
   "source": [
    "# distribute the dataset into two components X and Y\n",
    "x = df_clean.iloc[:, 4:17]\n",
    "y = df_clean.iloc[:, 2]"
   ]
  },
  {
   "cell_type": "code",
   "execution_count": 66,
   "metadata": {},
   "outputs": [
    {
     "data": {
      "text/html": [
       "<div>\n",
       "<style scoped>\n",
       "    .dataframe tbody tr th:only-of-type {\n",
       "        vertical-align: middle;\n",
       "    }\n",
       "\n",
       "    .dataframe tbody tr th {\n",
       "        vertical-align: top;\n",
       "    }\n",
       "\n",
       "    .dataframe thead th {\n",
       "        text-align: right;\n",
       "    }\n",
       "</style>\n",
       "<table border=\"1\" class=\"dataframe\">\n",
       "  <thead>\n",
       "    <tr style=\"text-align: right;\">\n",
       "      <th></th>\n",
       "      <th>run</th>\n",
       "      <th>TurnNr</th>\n",
       "      <th>MinimalRadius</th>\n",
       "      <th>VelocityAtMinRadius</th>\n",
       "      <th>VelocityAtTurnEntry</th>\n",
       "      <th>VelocityAtTurnExit</th>\n",
       "      <th>TimeStarttoEnd</th>\n",
       "      <th>TimeStartToMinRad</th>\n",
       "      <th>TimeMinRadToEnd</th>\n",
       "      <th>GlideTime_endtostart</th>\n",
       "      <th>TimeStarttoEnd_2</th>\n",
       "      <th>Initiation</th>\n",
       "      <th>Completion</th>\n",
       "    </tr>\n",
       "  </thead>\n",
       "  <tbody>\n",
       "    <tr>\n",
       "      <th>455</th>\n",
       "      <td>1</td>\n",
       "      <td>16</td>\n",
       "      <td>11.53</td>\n",
       "      <td>55.2</td>\n",
       "      <td>60.7</td>\n",
       "      <td>58.9</td>\n",
       "      <td>1.00</td>\n",
       "      <td>0.56</td>\n",
       "      <td>0.44</td>\n",
       "      <td>0.00</td>\n",
       "      <td>1.00</td>\n",
       "      <td>0.560000</td>\n",
       "      <td>0.440000</td>\n",
       "    </tr>\n",
       "    <tr>\n",
       "      <th>456</th>\n",
       "      <td>2</td>\n",
       "      <td>16</td>\n",
       "      <td>11.40</td>\n",
       "      <td>54.9</td>\n",
       "      <td>60.9</td>\n",
       "      <td>57.9</td>\n",
       "      <td>1.00</td>\n",
       "      <td>0.52</td>\n",
       "      <td>0.48</td>\n",
       "      <td>0.24</td>\n",
       "      <td>1.24</td>\n",
       "      <td>0.419355</td>\n",
       "      <td>0.387097</td>\n",
       "    </tr>\n",
       "    <tr>\n",
       "      <th>457</th>\n",
       "      <td>3</td>\n",
       "      <td>16</td>\n",
       "      <td>12.07</td>\n",
       "      <td>56.1</td>\n",
       "      <td>61.9</td>\n",
       "      <td>60.3</td>\n",
       "      <td>1.04</td>\n",
       "      <td>0.56</td>\n",
       "      <td>0.48</td>\n",
       "      <td>0.24</td>\n",
       "      <td>1.28</td>\n",
       "      <td>0.437500</td>\n",
       "      <td>0.375000</td>\n",
       "    </tr>\n",
       "    <tr>\n",
       "      <th>458</th>\n",
       "      <td>4</td>\n",
       "      <td>16</td>\n",
       "      <td>12.12</td>\n",
       "      <td>55.1</td>\n",
       "      <td>60.2</td>\n",
       "      <td>57.8</td>\n",
       "      <td>1.08</td>\n",
       "      <td>0.56</td>\n",
       "      <td>0.52</td>\n",
       "      <td>0.00</td>\n",
       "      <td>1.08</td>\n",
       "      <td>0.518519</td>\n",
       "      <td>0.481481</td>\n",
       "    </tr>\n",
       "    <tr>\n",
       "      <th>459</th>\n",
       "      <td>1</td>\n",
       "      <td>16</td>\n",
       "      <td>12.39</td>\n",
       "      <td>56.3</td>\n",
       "      <td>59.7</td>\n",
       "      <td>61.0</td>\n",
       "      <td>1.04</td>\n",
       "      <td>0.56</td>\n",
       "      <td>0.48</td>\n",
       "      <td>0.28</td>\n",
       "      <td>1.32</td>\n",
       "      <td>0.424242</td>\n",
       "      <td>0.363636</td>\n",
       "    </tr>\n",
       "    <tr>\n",
       "      <th>...</th>\n",
       "      <td>...</td>\n",
       "      <td>...</td>\n",
       "      <td>...</td>\n",
       "      <td>...</td>\n",
       "      <td>...</td>\n",
       "      <td>...</td>\n",
       "      <td>...</td>\n",
       "      <td>...</td>\n",
       "      <td>...</td>\n",
       "      <td>...</td>\n",
       "      <td>...</td>\n",
       "      <td>...</td>\n",
       "      <td>...</td>\n",
       "    </tr>\n",
       "    <tr>\n",
       "      <th>1145</th>\n",
       "      <td>2</td>\n",
       "      <td>16</td>\n",
       "      <td>14.72</td>\n",
       "      <td>50.8</td>\n",
       "      <td>51.2</td>\n",
       "      <td>51.3</td>\n",
       "      <td>1.64</td>\n",
       "      <td>0.88</td>\n",
       "      <td>0.76</td>\n",
       "      <td>0.28</td>\n",
       "      <td>1.92</td>\n",
       "      <td>0.458333</td>\n",
       "      <td>0.395833</td>\n",
       "    </tr>\n",
       "    <tr>\n",
       "      <th>1146</th>\n",
       "      <td>3</td>\n",
       "      <td>16</td>\n",
       "      <td>15.78</td>\n",
       "      <td>49.6</td>\n",
       "      <td>50.1</td>\n",
       "      <td>51.5</td>\n",
       "      <td>1.72</td>\n",
       "      <td>0.76</td>\n",
       "      <td>0.96</td>\n",
       "      <td>0.32</td>\n",
       "      <td>2.04</td>\n",
       "      <td>0.372549</td>\n",
       "      <td>0.470588</td>\n",
       "    </tr>\n",
       "    <tr>\n",
       "      <th>1147</th>\n",
       "      <td>4</td>\n",
       "      <td>16</td>\n",
       "      <td>14.26</td>\n",
       "      <td>48.9</td>\n",
       "      <td>50.2</td>\n",
       "      <td>50.8</td>\n",
       "      <td>1.48</td>\n",
       "      <td>0.68</td>\n",
       "      <td>0.80</td>\n",
       "      <td>0.24</td>\n",
       "      <td>1.72</td>\n",
       "      <td>0.395349</td>\n",
       "      <td>0.465116</td>\n",
       "    </tr>\n",
       "    <tr>\n",
       "      <th>1148</th>\n",
       "      <td>5</td>\n",
       "      <td>16</td>\n",
       "      <td>14.24</td>\n",
       "      <td>50.0</td>\n",
       "      <td>50.0</td>\n",
       "      <td>51.4</td>\n",
       "      <td>1.64</td>\n",
       "      <td>0.88</td>\n",
       "      <td>0.76</td>\n",
       "      <td>0.32</td>\n",
       "      <td>1.96</td>\n",
       "      <td>0.448980</td>\n",
       "      <td>0.387755</td>\n",
       "    </tr>\n",
       "    <tr>\n",
       "      <th>1149</th>\n",
       "      <td>6</td>\n",
       "      <td>16</td>\n",
       "      <td>14.58</td>\n",
       "      <td>50.1</td>\n",
       "      <td>51.2</td>\n",
       "      <td>51.2</td>\n",
       "      <td>1.44</td>\n",
       "      <td>0.60</td>\n",
       "      <td>0.84</td>\n",
       "      <td>0.28</td>\n",
       "      <td>1.72</td>\n",
       "      <td>0.348837</td>\n",
       "      <td>0.488372</td>\n",
       "    </tr>\n",
       "  </tbody>\n",
       "</table>\n",
       "<p>72 rows × 13 columns</p>\n",
       "</div>"
      ],
      "text/plain": [
       "      run  TurnNr  MinimalRadius  VelocityAtMinRadius  VelocityAtTurnEntry  \\\n",
       "455     1      16          11.53                 55.2                 60.7   \n",
       "456     2      16          11.40                 54.9                 60.9   \n",
       "457     3      16          12.07                 56.1                 61.9   \n",
       "458     4      16          12.12                 55.1                 60.2   \n",
       "459     1      16          12.39                 56.3                 59.7   \n",
       "...   ...     ...            ...                  ...                  ...   \n",
       "1145    2      16          14.72                 50.8                 51.2   \n",
       "1146    3      16          15.78                 49.6                 50.1   \n",
       "1147    4      16          14.26                 48.9                 50.2   \n",
       "1148    5      16          14.24                 50.0                 50.0   \n",
       "1149    6      16          14.58                 50.1                 51.2   \n",
       "\n",
       "      VelocityAtTurnExit  TimeStarttoEnd  TimeStartToMinRad  TimeMinRadToEnd  \\\n",
       "455                 58.9            1.00               0.56             0.44   \n",
       "456                 57.9            1.00               0.52             0.48   \n",
       "457                 60.3            1.04               0.56             0.48   \n",
       "458                 57.8            1.08               0.56             0.52   \n",
       "459                 61.0            1.04               0.56             0.48   \n",
       "...                  ...             ...                ...              ...   \n",
       "1145                51.3            1.64               0.88             0.76   \n",
       "1146                51.5            1.72               0.76             0.96   \n",
       "1147                50.8            1.48               0.68             0.80   \n",
       "1148                51.4            1.64               0.88             0.76   \n",
       "1149                51.2            1.44               0.60             0.84   \n",
       "\n",
       "      GlideTime_endtostart  TimeStarttoEnd_2  Initiation  Completion  \n",
       "455                   0.00              1.00    0.560000    0.440000  \n",
       "456                   0.24              1.24    0.419355    0.387097  \n",
       "457                   0.24              1.28    0.437500    0.375000  \n",
       "458                   0.00              1.08    0.518519    0.481481  \n",
       "459                   0.28              1.32    0.424242    0.363636  \n",
       "...                    ...               ...         ...         ...  \n",
       "1145                  0.28              1.92    0.458333    0.395833  \n",
       "1146                  0.32              2.04    0.372549    0.470588  \n",
       "1147                  0.24              1.72    0.395349    0.465116  \n",
       "1148                  0.32              1.96    0.448980    0.387755  \n",
       "1149                  0.28              1.72    0.348837    0.488372  \n",
       "\n",
       "[72 rows x 13 columns]"
      ]
     },
     "execution_count": 66,
     "metadata": {},
     "output_type": "execute_result"
    }
   ],
   "source": [
    "x"
   ]
  },
  {
   "cell_type": "code",
   "execution_count": 67,
   "metadata": {},
   "outputs": [
    {
     "name": "stdout",
     "output_type": "stream",
     "text": [
      "new_location\n",
      "Zermatt\n",
      "Something's Here!\n",
      "result_added\n",
      "new_location\n",
      "Stelvio\n",
      "result_added\n",
      "new_location\n",
      "Diavolezza\n",
      "result_added\n",
      "new_location\n",
      "Davos\n",
      "result_added\n",
      "new_location\n",
      "Kreuzbergpass\n",
      "result_added\n",
      "new_location\n",
      "Grindelwald\n",
      "result_added\n",
      "new_location\n",
      "Simonhöhe\n",
      "result_added\n"
     ]
    }
   ],
   "source": [
    "results = {}\n",
    "\n",
    "#df_clean_sub = df_clean.loc[df_clean['location'] == 'zermatt']\n",
    "\n",
    "# distribute the dataset into two components X and Y\n",
    "x = df_clean.iloc[:, 4:17]\n",
    "y = df_clean.iloc[:, 2]\n",
    "\n",
    "x_for_zermatt = x.loc[df['location'] == 'Zermatt']\n",
    "\n",
    "\n",
    "n_components = 2\n",
    "tsne = TSNE(n_components)\n",
    "\n",
    "\n",
    "for locat in location_set:\n",
    "    result = {}\n",
    "    x_sub = x.loc[df['location'] == locat]\n",
    "    no_of_turns = df.loc[df['location'] == locat]\n",
    "    no_of_turns = no_of_turns['TurnNr'].unique()\n",
    "    print(\"new_location\")\n",
    "    print(locat)\n",
    "    for i in no_of_turns:\n",
    "        new = i.astype('str')\n",
    "        x_sub_sub = x_sub.loc[df['TurnNr'] == i]\n",
    "        print(\"Something's Here!\")\n",
    "        answer = tsne.fit_transform(x_sub_sub)\n",
    "        result[new] = answer\n",
    "    results[locat] = result\n",
    "    print(\"result_added\")\n"
   ]
  },
  {
   "cell_type": "code",
   "execution_count": null,
   "metadata": {},
   "outputs": [],
   "source": []
  },
  {
   "cell_type": "code",
   "execution_count": 68,
   "metadata": {},
   "outputs": [
    {
     "name": "stdout",
     "output_type": "stream",
     "text": [
      "(1, 7)\n"
     ]
    },
    {
     "data": {
      "image/png": "[encoded data removed]",
      "text/plain": [
       "<Figure size 432x288 with 7 Axes>"
      ]
     },
     "metadata": {
      "needs_background": "light"
     },
     "output_type": "display_data"
    }
   ],
   "source": [
    "results_df = pd.DataFrame.from_dict(results)\n",
    "print(results_df.shape)\n",
    "\n",
    "fig, ax = plt.subplots(nrows=results_df.shape[0], ncols = results_df.shape[1])\n"
   ]
  },
  {
   "cell_type": "code",
   "execution_count": 70,
   "metadata": {},
   "outputs": [
    {
     "ename": "IndexError",
     "evalue": "single positional indexer is out-of-bounds",
     "output_type": "error",
     "traceback": [
      "\u001b[0;31m---------------------------------------------------------------------------\u001b[0m",
      "\u001b[0;31mIndexError\u001b[0m                                Traceback (most recent call last)",
      "\u001b[0;32m<ipython-input-70-2038be5276b4>\u001b[0m in \u001b[0;36m<module>\u001b[0;34m\u001b[0m\n\u001b[0;32m----> 1\u001b[0;31m \u001b[0mresults_df_\u001b[0m \u001b[0;34m=\u001b[0m \u001b[0mresults_df\u001b[0m\u001b[0;34m.\u001b[0m\u001b[0miloc\u001b[0m\u001b[0;34m[\u001b[0m\u001b[0;36m1\u001b[0m\u001b[0;34m,\u001b[0m\u001b[0;36m1\u001b[0m\u001b[0;34m]\u001b[0m\u001b[0;34m\u001b[0m\u001b[0;34m\u001b[0m\u001b[0m\n\u001b[0m",
      "\u001b[0;32m~/opt/anaconda3/lib/python3.8/site-packages/pandas/core/indexing.py\u001b[0m in \u001b[0;36m__getitem__\u001b[0;34m(self, key)\u001b[0m\n\u001b[1;32m    871\u001b[0m                     \u001b[0;31m# AttributeError for IntervalTree get_value\u001b[0m\u001b[0;34m\u001b[0m\u001b[0;34m\u001b[0m\u001b[0;34m\u001b[0m\u001b[0m\n\u001b[1;32m    872\u001b[0m                     \u001b[0;32mpass\u001b[0m\u001b[0;34m\u001b[0m\u001b[0;34m\u001b[0m\u001b[0m\n\u001b[0;32m--> 873\u001b[0;31m             \u001b[0;32mreturn\u001b[0m \u001b[0mself\u001b[0m\u001b[0;34m.\u001b[0m\u001b[0m_getitem_tuple\u001b[0m\u001b[0;34m(\u001b[0m\u001b[0mkey\u001b[0m\u001b[0;34m)\u001b[0m\u001b[0;34m\u001b[0m\u001b[0;34m\u001b[0m\u001b[0m\n\u001b[0m\u001b[1;32m    874\u001b[0m         \u001b[0;32melse\u001b[0m\u001b[0;34m:\u001b[0m\u001b[0;34m\u001b[0m\u001b[0;34m\u001b[0m\u001b[0m\n\u001b[1;32m    875\u001b[0m             \u001b[0;31m# we by definition only have the 0th axis\u001b[0m\u001b[0;34m\u001b[0m\u001b[0;34m\u001b[0m\u001b[0;34m\u001b[0m\u001b[0m\n",
      "\u001b[0;32m~/opt/anaconda3/lib/python3.8/site-packages/pandas/core/indexing.py\u001b[0m in \u001b[0;36m_getitem_tuple\u001b[0;34m(self, tup)\u001b[0m\n\u001b[1;32m   1441\u001b[0m     \u001b[0;32mdef\u001b[0m \u001b[0m_getitem_tuple\u001b[0m\u001b[0;34m(\u001b[0m\u001b[0mself\u001b[0m\u001b[0;34m,\u001b[0m \u001b[0mtup\u001b[0m\u001b[0;34m:\u001b[0m \u001b[0mTuple\u001b[0m\u001b[0;34m)\u001b[0m\u001b[0;34m:\u001b[0m\u001b[0;34m\u001b[0m\u001b[0;34m\u001b[0m\u001b[0m\n\u001b[1;32m   1442\u001b[0m \u001b[0;34m\u001b[0m\u001b[0m\n\u001b[0;32m-> 1443\u001b[0;31m         \u001b[0mself\u001b[0m\u001b[0;34m.\u001b[0m\u001b[0m_has_valid_tuple\u001b[0m\u001b[0;34m(\u001b[0m\u001b[0mtup\u001b[0m\u001b[0;34m)\u001b[0m\u001b[0;34m\u001b[0m\u001b[0;34m\u001b[0m\u001b[0m\n\u001b[0m\u001b[1;32m   1444\u001b[0m         \u001b[0;32mtry\u001b[0m\u001b[0;34m:\u001b[0m\u001b[0;34m\u001b[0m\u001b[0;34m\u001b[0m\u001b[0m\n\u001b[1;32m   1445\u001b[0m             \u001b[0;32mreturn\u001b[0m \u001b[0mself\u001b[0m\u001b[0;34m.\u001b[0m\u001b[0m_getitem_lowerdim\u001b[0m\u001b[0;34m(\u001b[0m\u001b[0mtup\u001b[0m\u001b[0;34m)\u001b[0m\u001b[0;34m\u001b[0m\u001b[0;34m\u001b[0m\u001b[0m\n",
      "\u001b[0;32m~/opt/anaconda3/lib/python3.8/site-packages/pandas/core/indexing.py\u001b[0m in \u001b[0;36m_has_valid_tuple\u001b[0;34m(self, key)\u001b[0m\n\u001b[1;32m    700\u001b[0m                 \u001b[0;32mraise\u001b[0m \u001b[0mIndexingError\u001b[0m\u001b[0;34m(\u001b[0m\u001b[0;34m\"Too many indexers\"\u001b[0m\u001b[0;34m)\u001b[0m\u001b[0;34m\u001b[0m\u001b[0;34m\u001b[0m\u001b[0m\n\u001b[1;32m    701\u001b[0m             \u001b[0;32mtry\u001b[0m\u001b[0;34m:\u001b[0m\u001b[0;34m\u001b[0m\u001b[0;34m\u001b[0m\u001b[0m\n\u001b[0;32m--> 702\u001b[0;31m                 \u001b[0mself\u001b[0m\u001b[0;34m.\u001b[0m\u001b[0m_validate_key\u001b[0m\u001b[0;34m(\u001b[0m\u001b[0mk\u001b[0m\u001b[0;34m,\u001b[0m \u001b[0mi\u001b[0m\u001b[0;34m)\u001b[0m\u001b[0;34m\u001b[0m\u001b[0;34m\u001b[0m\u001b[0m\n\u001b[0m\u001b[1;32m    703\u001b[0m             \u001b[0;32mexcept\u001b[0m \u001b[0mValueError\u001b[0m \u001b[0;32mas\u001b[0m \u001b[0merr\u001b[0m\u001b[0;34m:\u001b[0m\u001b[0;34m\u001b[0m\u001b[0;34m\u001b[0m\u001b[0m\n\u001b[1;32m    704\u001b[0m                 raise ValueError(\n",
      "\u001b[0;32m~/opt/anaconda3/lib/python3.8/site-packages/pandas/core/indexing.py\u001b[0m in \u001b[0;36m_validate_key\u001b[0;34m(self, key, axis)\u001b[0m\n\u001b[1;32m   1350\u001b[0m             \u001b[0;32mreturn\u001b[0m\u001b[0;34m\u001b[0m\u001b[0;34m\u001b[0m\u001b[0m\n\u001b[1;32m   1351\u001b[0m         \u001b[0;32melif\u001b[0m \u001b[0mis_integer\u001b[0m\u001b[0;34m(\u001b[0m\u001b[0mkey\u001b[0m\u001b[0;34m)\u001b[0m\u001b[0;34m:\u001b[0m\u001b[0;34m\u001b[0m\u001b[0;34m\u001b[0m\u001b[0m\n\u001b[0;32m-> 1352\u001b[0;31m             \u001b[0mself\u001b[0m\u001b[0;34m.\u001b[0m\u001b[0m_validate_integer\u001b[0m\u001b[0;34m(\u001b[0m\u001b[0mkey\u001b[0m\u001b[0;34m,\u001b[0m \u001b[0maxis\u001b[0m\u001b[0;34m)\u001b[0m\u001b[0;34m\u001b[0m\u001b[0;34m\u001b[0m\u001b[0m\n\u001b[0m\u001b[1;32m   1353\u001b[0m         \u001b[0;32melif\u001b[0m \u001b[0misinstance\u001b[0m\u001b[0;34m(\u001b[0m\u001b[0mkey\u001b[0m\u001b[0;34m,\u001b[0m \u001b[0mtuple\u001b[0m\u001b[0;34m)\u001b[0m\u001b[0;34m:\u001b[0m\u001b[0;34m\u001b[0m\u001b[0;34m\u001b[0m\u001b[0m\n\u001b[1;32m   1354\u001b[0m             \u001b[0;31m# a tuple should already have been caught by this point\u001b[0m\u001b[0;34m\u001b[0m\u001b[0;34m\u001b[0m\u001b[0;34m\u001b[0m\u001b[0m\n",
      "\u001b[0;32m~/opt/anaconda3/lib/python3.8/site-packages/pandas/core/indexing.py\u001b[0m in \u001b[0;36m_validate_integer\u001b[0;34m(self, key, axis)\u001b[0m\n\u001b[1;32m   1435\u001b[0m         \u001b[0mlen_axis\u001b[0m \u001b[0;34m=\u001b[0m \u001b[0mlen\u001b[0m\u001b[0;34m(\u001b[0m\u001b[0mself\u001b[0m\u001b[0;34m.\u001b[0m\u001b[0mobj\u001b[0m\u001b[0;34m.\u001b[0m\u001b[0m_get_axis\u001b[0m\u001b[0;34m(\u001b[0m\u001b[0maxis\u001b[0m\u001b[0;34m)\u001b[0m\u001b[0;34m)\u001b[0m\u001b[0;34m\u001b[0m\u001b[0;34m\u001b[0m\u001b[0m\n\u001b[1;32m   1436\u001b[0m         \u001b[0;32mif\u001b[0m \u001b[0mkey\u001b[0m \u001b[0;34m>=\u001b[0m \u001b[0mlen_axis\u001b[0m \u001b[0;32mor\u001b[0m \u001b[0mkey\u001b[0m \u001b[0;34m<\u001b[0m \u001b[0;34m-\u001b[0m\u001b[0mlen_axis\u001b[0m\u001b[0;34m:\u001b[0m\u001b[0;34m\u001b[0m\u001b[0;34m\u001b[0m\u001b[0m\n\u001b[0;32m-> 1437\u001b[0;31m             \u001b[0;32mraise\u001b[0m \u001b[0mIndexError\u001b[0m\u001b[0;34m(\u001b[0m\u001b[0;34m\"single positional indexer is out-of-bounds\"\u001b[0m\u001b[0;34m)\u001b[0m\u001b[0;34m\u001b[0m\u001b[0;34m\u001b[0m\u001b[0m\n\u001b[0m\u001b[1;32m   1438\u001b[0m \u001b[0;34m\u001b[0m\u001b[0m\n\u001b[1;32m   1439\u001b[0m     \u001b[0;31m# -------------------------------------------------------------------\u001b[0m\u001b[0;34m\u001b[0m\u001b[0;34m\u001b[0m\u001b[0;34m\u001b[0m\u001b[0m\n",
      "\u001b[0;31mIndexError\u001b[0m: single positional indexer is out-of-bounds"
     ]
    }
   ],
   "source": [
    "results_df_ = results_df.iloc[1,1]"
   ]
  },
  {
   "cell_type": "code",
   "execution_count": 54,
   "metadata": {},
   "outputs": [
    {
     "data": {
      "text/plain": [
       "nan"
      ]
     },
     "execution_count": 54,
     "metadata": {},
     "output_type": "execute_result"
    }
   ],
   "source": [
    "results_df_"
   ]
  },
  {
   "cell_type": "code",
   "execution_count": 52,
   "metadata": {},
   "outputs": [
    {
     "data": {
      "text/plain": [
       "<matplotlib.legend.Legend at 0x7fefc7477490>"
      ]
     },
     "execution_count": 52,
     "metadata": {},
     "output_type": "execute_result"
    },
    {
     "data": {
      "image/png": "[encoded data removed]",
      "text/plain": [
       "<Figure size 432x288 with 1 Axes>"
      ]
     },
     "metadata": {
      "needs_background": "light"
     },
     "output_type": "display_data"
    }
   ],
   "source": [
    "# We want to get TSNE embedding with 2 dimensions\n",
    "#n_components = 2\n",
    "#tsne = TSNE(n_components)\n",
    "#tsne_result = tsne.fit_transform(x)\n",
    "#tsne_result.shape\n",
    "# (1000, 2)\n",
    "# Two dimensions for each of our images\n",
    "\n",
    "\n",
    " \n",
    "# Plot the result of our TSNE with the label color coded\n",
    "# A lot of the stuff here is about making the plot look pretty and not TSNE\n",
    "tsne_result_df = pd.DataFrame({'tsne_1': results_df_[:,0], 'tsne_2': results_df_[:,1], 'label': y})\n",
    "fig, ax = plt.subplots(1)\n",
    "sns.scatterplot(x='tsne_1', y='tsne_2', hue='label', data=tsne_result_df, ax=ax,s=120)\n",
    "lim = (tsne_result.min()-5, tsne_result.max()+5)\n",
    "ax.set_xlim(lim)\n",
    "ax.set_ylim(lim)\n",
    "ax.set_aspect('equal')\n",
    "ax.legend(bbox_to_anchor=(1.05, 1), loc=2, borderaxespad=0.0)"
   ]
  },
  {
   "cell_type": "code",
   "execution_count": null,
   "metadata": {},
   "outputs": [],
   "source": []
  },
  {
   "cell_type": "code",
   "execution_count": null,
   "metadata": {},
   "outputs": [],
   "source": []
  }
 ],
 "metadata": {
  "kernelspec": {
   "display_name": "Python 3",
   "language": "python",
   "name": "python3"
  },
  "language_info": {
   "codemirror_mode": {
    "name": "ipython",
    "version": 3
   },
   "file_extension": ".py",
   "mimetype": "text/x-python",
   "name": "python",
   "nbconvert_exporter": "python",
   "pygments_lexer": "ipython3",
   "version": "3.8.5"
  },
  "toc": {
   "base_numbering": 1,
   "nav_menu": {},
   "number_sections": true,
   "sideBar": true,
   "skip_h1_title": true,
   "title_cell": "Table of Contents",
   "title_sidebar": "Contents",
   "toc_cell": true,
   "toc_position": {},
   "toc_section_display": true,
   "toc_window_display": false
  }
 },
 "nbformat": 4,
 "nbformat_minor": 4
}
