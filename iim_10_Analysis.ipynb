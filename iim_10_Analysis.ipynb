{
 "cells": [
  {
   "cell_type": "markdown",
   "id": "f05cbbbd-958d-4baf-8e50-653dd5d9832a",
   "metadata": {},
   "source": [
    "# Analyze Turn 2"
   ]
  },
  {
   "cell_type": "code",
   "execution_count": null,
   "id": "52ff872a-615a-4daa-9031-4243acc551e0",
   "metadata": {},
   "outputs": [],
   "source": [
    "dfTurn2 = df[df['TurnNr'] == 2]"
   ]
  },
  {
   "cell_type": "code",
   "execution_count": null,
   "id": "8f7a5cd0-198d-4403-af61-2ddc95e9ac42",
   "metadata": {},
   "outputs": [],
   "source": [
    "dfTurn2[['athlete', 'run', 'MinimalRadius', 'VelocityAtMinRadius', 'VelocityAtTurnEntry']]"
   ]
  },
  {
   "cell_type": "code",
   "execution_count": null,
   "id": "6f96f038-e99f-4466-aa72-7a420f0e3c14",
   "metadata": {},
   "outputs": [],
   "source": [
    "dfAthlete1 = dfTurn2[dfTurn2['athlete'] == 1]"
   ]
  },
  {
   "cell_type": "code",
   "execution_count": null,
   "id": "28d55e21-c52a-42ef-9a75-c2512e86672f",
   "metadata": {},
   "outputs": [],
   "source": [
    "dfAthlete1.describe()"
   ]
  },
  {
   "cell_type": "code",
   "execution_count": null,
   "id": "2981fac6-a637-4857-aa98-4d99d857f37c",
   "metadata": {},
   "outputs": [],
   "source": [
    "dfAthlete1.plot.bar(x='athlete', y='MinimalRadius', figsize=(20, 10))"
   ]
  },
  {
   "cell_type": "code",
   "execution_count": null,
   "id": "3b932f3f-5cdf-4054-9bf5-9f9ab620192e",
   "metadata": {},
   "outputs": [],
   "source": [
    "ax = dfTurn2[dfTurn2[\"athlete\"] == 1].sort_values(\"run\").plot.bar(x='athlete', y='MinimalRadius', figsize=(20,10))"
   ]
  },
  {
   "cell_type": "code",
   "execution_count": null,
   "id": "be462653-bd91-4950-a674-9a0d47349d8f",
   "metadata": {},
   "outputs": [],
   "source": []
  }
 ],
 "metadata": {
  "kernelspec": {
   "display_name": "Python 3 (ipykernel)",
   "language": "python",
   "name": "python3"
  },
  "language_info": {
   "codemirror_mode": {
    "name": "ipython",
    "version": 3
   },
   "file_extension": ".py",
   "mimetype": "text/x-python",
   "name": "python",
   "nbconvert_exporter": "python",
   "pygments_lexer": "ipython3",
   "version": "3.7.10"
  }
 },
 "nbformat": 4,
 "nbformat_minor": 5
}
