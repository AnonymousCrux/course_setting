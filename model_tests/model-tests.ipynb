{
 "cells": [
  {
   "cell_type": "code",
   "execution_count": 12,
   "metadata": {},
   "outputs": [],
   "source": [
    "import pandas as pd\n",
    "import numpy as np\n",
    "\n",
    "from sklearn.multioutput import MultiOutputRegressor\n",
    "from sklearn.model_selection import train_test_split"
   ]
  },
  {
   "cell_type": "code",
   "execution_count": null,
   "metadata": {},
   "outputs": [],
   "source": []
  },
  {
   "cell_type": "code",
   "execution_count": 2,
   "metadata": {},
   "outputs": [],
   "source": [
    "RANDOM_STATE = 8675309"
   ]
  },
  {
   "cell_type": "code",
   "execution_count": null,
   "metadata": {},
   "outputs": [],
   "source": []
  },
  {
   "cell_type": "code",
   "execution_count": 3,
   "metadata": {},
   "outputs": [],
   "source": [
    "df = pd.read_excel(\"../Data/bereinigte_DATEN_ano.xlsx\")"
   ]
  },
  {
   "cell_type": "code",
   "execution_count": 4,
   "metadata": {},
   "outputs": [
    {
     "data": {
      "text/plain": [
       "Index(['Unnamed: 0', 'V1', 'athlete', 'gender', 'run', 'location', 'date',\n",
       "       'TurnNr', 'MinimalRadius', 'VelocityAtMinRadius', 'VelocityAtTurnEntry',\n",
       "       'VelocityAtTurnExit', 'TimeStarttoEnd', 'TimeStartToMinRad',\n",
       "       'TimeMinRadToEnd', 'GlideTime_endtostart', 'TimeStarttoEnd_2',\n",
       "       'Initiation', 'Completion', 'Gliding', 'Unnamed0', 'vectortonext',\n",
       "       'vector2Dtonext', 'GATEDISTANCE', 'dist2Dtonext', 'vectortonextnorm',\n",
       "       'vector2Dtonextnorm', 'STEEPNESS', 'azitonext', 'slopechangetonext',\n",
       "       'angletonext', 'projtonext', 'projpttonext', 'offsettonext',\n",
       "       'vectortonextnext', 'vector2Dtonextnext', 'dist3Dtonextnext',\n",
       "       'dts2Dtonextnext', 'vectortonextnextnorm', 'vector2Dtonextnextnorm',\n",
       "       'slopetonextnext', 'azitonextnext', 'HORIZONTALGATEDISTANCE',\n",
       "       'VERTICALGATEDISTANCE', 'regularbs1orfs2', 'steepness_A', 'filter_$',\n",
       "       'goofy2_regular1', '@2Ferse_3Zehe_4Ferse', 'Zehen1_Fersen2',\n",
       "       'DistanzSchätz'],\n",
       "      dtype='object')"
      ]
     },
     "execution_count": 4,
     "metadata": {},
     "output_type": "execute_result"
    }
   ],
   "source": [
    "df.columns"
   ]
  },
  {
   "cell_type": "code",
   "execution_count": null,
   "metadata": {},
   "outputs": [],
   "source": []
  },
  {
   "cell_type": "code",
   "execution_count": 133,
   "metadata": {},
   "outputs": [
    {
     "data": {
      "text/plain": [
       "0       [-14.3678025804111,15.6543538719416,-6.1476324...\n",
       "1       [-14.3678025804111,15.6543538719416,-6.1476324...\n",
       "2       [-14.3678025804111,15.6543538719416,-6.1476324...\n",
       "3       [-14.3678025804111,15.6543538719416,-6.1476324...\n",
       "4       [-14.3678025804111,15.6543538719416,-6.1476324...\n",
       "                              ...                        \n",
       "6685    [17.9373525538831,13.1200019354001,-4.58418518...\n",
       "6686    [17.9373525538831,13.1200019354001,-4.58418518...\n",
       "6687    [17.9373525538831,13.1200019354001,-4.58418518...\n",
       "6688    [17.9373525538831,13.1200019354001,-4.58418518...\n",
       "6689    [17.9373525538831,13.1200019354001,-4.58418518...\n",
       "Name: vectortonext, Length: 6690, dtype: object"
      ]
     },
     "execution_count": 133,
     "metadata": {},
     "output_type": "execute_result"
    }
   ],
   "source": [
    "df['vectortonext']"
   ]
  },
  {
   "cell_type": "code",
   "execution_count": null,
   "metadata": {},
   "outputs": [],
   "source": []
  },
  {
   "cell_type": "code",
   "execution_count": 78,
   "metadata": {},
   "outputs": [],
   "source": [
    "X = (\n",
    "    df[[\n",
    "        'gender',\n",
    "        'MinimalRadius',\n",
    "        'VelocityAtMinRadius',\n",
    "        'VelocityAtTurnEntry',\n",
    "        'VelocityAtTurnExit',\n",
    "    ]].values\n",
    ")"
   ]
  },
  {
   "cell_type": "code",
   "execution_count": 106,
   "metadata": {},
   "outputs": [
    {
     "data": {
      "text/plain": [
       "array([[ 1.  , 10.63, 53.6 , 55.7 , 55.2 ],\n",
       "       [ 1.  , 11.05, 52.3 , 57.7 , 55.6 ],\n",
       "       [ 1.  , 10.99, 52.8 , 57.  , 58.2 ],\n",
       "       ...,\n",
       "       [ 2.  , 13.37, 50.6 , 52.2 , 53.7 ],\n",
       "       [ 2.  , 10.28, 47.3 , 48.1 , 49.5 ],\n",
       "       [ 2.  , 12.84, 50.6 , 51.  , 53.2 ]])"
      ]
     },
     "execution_count": 106,
     "metadata": {},
     "output_type": "execute_result"
    }
   ],
   "source": [
    "X"
   ]
  },
  {
   "cell_type": "code",
   "execution_count": 107,
   "metadata": {},
   "outputs": [],
   "source": [
    "y = df[['TimeStarttoEnd', 'TimeStartToMinRad', 'TimeMinRadToEnd', 'GlideTime_endtostart', 'TimeStarttoEnd_2']].values"
   ]
  },
  {
   "cell_type": "code",
   "execution_count": 108,
   "metadata": {},
   "outputs": [
    {
     "data": {
      "text/plain": [
       "array([[1.28, 0.64, 0.64, 0.24, 1.52],\n",
       "       [1.32, 0.6 , 0.72, 0.24, 1.56],\n",
       "       [1.32, 0.6 , 0.72, 0.24, 1.56],\n",
       "       ...,\n",
       "       [1.36, 0.52, 0.84, 0.24, 1.6 ],\n",
       "       [1.32, 0.64, 0.68, 0.  , 1.32],\n",
       "       [1.36, 0.52, 0.84, 0.24, 1.6 ]])"
      ]
     },
     "execution_count": 108,
     "metadata": {},
     "output_type": "execute_result"
    }
   ],
   "source": [
    "y"
   ]
  },
  {
   "cell_type": "code",
   "execution_count": null,
   "metadata": {},
   "outputs": [],
   "source": []
  },
  {
   "cell_type": "code",
   "execution_count": 109,
   "metadata": {},
   "outputs": [],
   "source": [
    "X_train, X_test, y_train, y_test = train_test_split(X, y, test_size=0.25, random_state=RANDOM_STATE)"
   ]
  },
  {
   "cell_type": "code",
   "execution_count": null,
   "metadata": {},
   "outputs": [],
   "source": []
  },
  {
   "cell_type": "code",
   "execution_count": 110,
   "metadata": {},
   "outputs": [
    {
     "name": "stdout",
     "output_type": "stream",
     "text": [
      "(5017, 5)\n",
      "(5017, 5)\n"
     ]
    }
   ],
   "source": [
    "print(X_train.shape)\n",
    "print(y_train.shape)"
   ]
  },
  {
   "cell_type": "code",
   "execution_count": 111,
   "metadata": {},
   "outputs": [
    {
     "name": "stdout",
     "output_type": "stream",
     "text": [
      "(1673, 5)\n",
      "(1673, 5)\n"
     ]
    }
   ],
   "source": [
    "print(X_test.shape)\n",
    "print(y_test.shape)"
   ]
  },
  {
   "cell_type": "code",
   "execution_count": null,
   "metadata": {},
   "outputs": [],
   "source": []
  },
  {
   "cell_type": "code",
   "execution_count": 112,
   "metadata": {},
   "outputs": [],
   "source": [
    "from sklearn.linear_model import LinearRegression"
   ]
  },
  {
   "cell_type": "code",
   "execution_count": 113,
   "metadata": {},
   "outputs": [],
   "source": [
    "model = MultiOutputRegressor(LinearRegression()).fit(X_train, y_train)"
   ]
  },
  {
   "cell_type": "code",
   "execution_count": 114,
   "metadata": {},
   "outputs": [
    {
     "data": {
      "text/plain": [
       "0.4585824276812328"
      ]
     },
     "execution_count": 114,
     "metadata": {},
     "output_type": "execute_result"
    }
   ],
   "source": [
    "model.score(X_test, y_test)"
   ]
  },
  {
   "cell_type": "code",
   "execution_count": null,
   "metadata": {},
   "outputs": [],
   "source": []
  },
  {
   "cell_type": "code",
   "execution_count": 115,
   "metadata": {},
   "outputs": [],
   "source": [
    "from sklearn.linear_model import Ridge"
   ]
  },
  {
   "cell_type": "code",
   "execution_count": 116,
   "metadata": {},
   "outputs": [],
   "source": [
    "model = MultiOutputRegressor(Ridge()).fit(X_train, y_train)"
   ]
  },
  {
   "cell_type": "code",
   "execution_count": 117,
   "metadata": {},
   "outputs": [
    {
     "data": {
      "text/plain": [
       "0.45858267492371674"
      ]
     },
     "execution_count": 117,
     "metadata": {},
     "output_type": "execute_result"
    }
   ],
   "source": [
    "model.score(X_test, y_test)"
   ]
  },
  {
   "cell_type": "code",
   "execution_count": null,
   "metadata": {},
   "outputs": [],
   "source": []
  },
  {
   "cell_type": "code",
   "execution_count": 118,
   "metadata": {},
   "outputs": [],
   "source": [
    "from sklearn.linear_model import RidgeCV"
   ]
  },
  {
   "cell_type": "code",
   "execution_count": 119,
   "metadata": {},
   "outputs": [],
   "source": [
    "model = MultiOutputRegressor(RidgeCV()).fit(X_train, y_train)"
   ]
  },
  {
   "cell_type": "code",
   "execution_count": 120,
   "metadata": {},
   "outputs": [
    {
     "data": {
      "text/plain": [
       "0.45858448440598953"
      ]
     },
     "execution_count": 120,
     "metadata": {},
     "output_type": "execute_result"
    }
   ],
   "source": [
    "model.score(X_test, y_test)"
   ]
  },
  {
   "cell_type": "code",
   "execution_count": null,
   "metadata": {},
   "outputs": [],
   "source": []
  },
  {
   "cell_type": "code",
   "execution_count": 121,
   "metadata": {},
   "outputs": [],
   "source": [
    "from sklearn.tree import DecisionTreeRegressor"
   ]
  },
  {
   "cell_type": "code",
   "execution_count": 122,
   "metadata": {},
   "outputs": [],
   "source": [
    "model = MultiOutputRegressor(DecisionTreeRegressor(max_depth=8, min_samples_leaf=15, random_state=RANDOM_STATE)).fit(X_train, y_train)"
   ]
  },
  {
   "cell_type": "code",
   "execution_count": 123,
   "metadata": {},
   "outputs": [
    {
     "data": {
      "text/plain": [
       "0.4994544779868342"
      ]
     },
     "execution_count": 123,
     "metadata": {},
     "output_type": "execute_result"
    }
   ],
   "source": [
    "model.score(X_test, y_test)"
   ]
  },
  {
   "cell_type": "code",
   "execution_count": 124,
   "metadata": {},
   "outputs": [],
   "source": [
    "from sklearn.metrics import mean_squared_error\n",
    "from sklearn.metrics import r2_score"
   ]
  },
  {
   "cell_type": "code",
   "execution_count": 125,
   "metadata": {},
   "outputs": [
    {
     "name": "stdout",
     "output_type": "stream",
     "text": [
      "0.13294932285868907\n",
      "0.5888198736709183\n"
     ]
    }
   ],
   "source": [
    "pred_train_tree = model.predict(X_train)\n",
    "print(np.sqrt(mean_squared_error(y_train, pred_train_tree)))\n",
    "print(r2_score(y_train, pred_train_tree))"
   ]
  },
  {
   "cell_type": "code",
   "execution_count": 126,
   "metadata": {},
   "outputs": [
    {
     "name": "stdout",
     "output_type": "stream",
     "text": [
      "0.14950820660914718\n",
      "0.4994544779868342\n"
     ]
    }
   ],
   "source": [
    "pred_test_tree= model.predict(X_test)\n",
    "print(np.sqrt(mean_squared_error(y_test,pred_test_tree))) \n",
    "print(r2_score(y_test, pred_test_tree))"
   ]
  },
  {
   "cell_type": "code",
   "execution_count": null,
   "metadata": {},
   "outputs": [],
   "source": []
  },
  {
   "cell_type": "code",
   "execution_count": 127,
   "metadata": {},
   "outputs": [],
   "source": [
    "from sklearn.ensemble import RandomForestRegressor"
   ]
  },
  {
   "cell_type": "code",
   "execution_count": 128,
   "metadata": {},
   "outputs": [],
   "source": [
    "model = MultiOutputRegressor(RandomForestRegressor(n_estimators=500, oob_score=True, random_state=RANDOM_STATE)).fit(X_train, y_train)"
   ]
  },
  {
   "cell_type": "code",
   "execution_count": 129,
   "metadata": {},
   "outputs": [
    {
     "data": {
      "text/plain": [
       "0.5345299466893981"
      ]
     },
     "execution_count": 129,
     "metadata": {},
     "output_type": "execute_result"
    }
   ],
   "source": [
    "model.score(X_test, y_test)"
   ]
  },
  {
   "cell_type": "code",
   "execution_count": null,
   "metadata": {},
   "outputs": [],
   "source": []
  },
  {
   "cell_type": "code",
   "execution_count": 130,
   "metadata": {},
   "outputs": [],
   "source": [
    "from sklearn.linear_model import SGDRegressor\n",
    "from sklearn.pipeline import make_pipeline\n",
    "from sklearn.preprocessing import StandardScaler"
   ]
  },
  {
   "cell_type": "code",
   "execution_count": 131,
   "metadata": {},
   "outputs": [],
   "source": [
    "model = (\n",
    "    make_pipeline(\n",
    "        StandardScaler(),\n",
    "        MultiOutputRegressor(SGDRegressor(max_iter=1000, tol=1e-3, random_state=RANDOM_STATE))\n",
    "    ).fit(X_train, y_train)\n",
    ")"
   ]
  },
  {
   "cell_type": "code",
   "execution_count": 132,
   "metadata": {},
   "outputs": [
    {
     "data": {
      "text/plain": [
       "0.4584130690007826"
      ]
     },
     "execution_count": 132,
     "metadata": {},
     "output_type": "execute_result"
    }
   ],
   "source": [
    "model.score(X_test, y_test)"
   ]
  },
  {
   "cell_type": "code",
   "execution_count": null,
   "metadata": {},
   "outputs": [],
   "source": []
  }
 ],
 "metadata": {
  "kernelspec": {
   "display_name": "Python 3",
   "language": "python",
   "name": "python3"
  },
  "language_info": {
   "codemirror_mode": {
    "name": "ipython",
    "version": 3
   },
   "file_extension": ".py",
   "mimetype": "text/x-python",
   "name": "python",
   "nbconvert_exporter": "python",
   "pygments_lexer": "ipython3",
   "version": "3.8.5"
  }
 },
 "nbformat": 4,
 "nbformat_minor": 5
}
